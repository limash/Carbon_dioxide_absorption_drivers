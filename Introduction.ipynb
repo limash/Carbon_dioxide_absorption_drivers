{
 "cells": [
  {
   "cell_type": "markdown",
   "metadata": {},
   "source": [
    "Temperate coastal areas, in general, absorb $CO_2$ from the atmosphere (Brenner, 2016), but due to different drivers, this absorption can vary significantly.\n",
    "High productivity of coastal areas (Gattuso, 1998) enhance uptake of $CO_2$, but the degradation of additional organics coming from the land releases $CO_2$ (Bozec, 2006).\n",
    "$CO_2$ seawater-atmosphere exchange is temperature-dependent and therefore seasonal process.\n",
    "Also, the shallowness of coastal areas provides a link between biogeochemical processes in sediments and water column."
   ]
  },
  {
   "cell_type": "markdown",
   "metadata": {},
   "source": [
    "It has been proposed that alkalinity generation in coastal area sediments can impact the $CO_2$ absorption by seawater (Thomas, 2009).\n",
    "Also, seasonality of sedimentary alkalinity generation can redistribute the buffer capability of the seawater during a year.\n",
    "Thomas (2009) proposed that the Wadden Sea is an essentional source of alkalinity for the North Sea.\n",
    "Moore (2011) proposed smaller fluxes of alkalinity from the Wadden Sea to the North Sea, but still confirmed that the Wadden Sea is a source of alkalinity for the North Sea.\n",
    "Brenner (2016) calculated the impact of sedimentary alkalinity release on the water column $CO_2$ system in the North Sea.\n",
    "In the recent study, the ranges of alkalinity can be generated in the permeable sediments of the Wadden Sea were calculated (#).\n",
    "Here summing up the available information we try to calculate the $pCO_2$ values in the surface water of the Southern North sea accounting on the fluxes of alkalinity and DIC from the Wadden Sea and from the sediments of the North Sea."
   ]
  },
  {
   "cell_type": "code",
   "execution_count": null,
   "metadata": {},
   "outputs": [],
   "source": []
  }
 ],
 "metadata": {
  "jupytext": {
   "main_language": "python",
   "text_representation": {
    "extension": ".Rmd",
    "format_name": "rmarkdown",
    "format_version": "1.0",
    "jupytext_version": "0.8.6"
   }
  },
  "kernelspec": {
   "display_name": "Python 3",
   "language": "python",
   "name": "python3"
  },
  "language_info": {
   "codemirror_mode": {
    "name": "ipython",
    "version": 3
   },
   "file_extension": ".py",
   "mimetype": "text/x-python",
   "name": "python",
   "nbconvert_exporter": "python",
   "pygments_lexer": "ipython3",
   "version": "3.7.2"
  }
 },
 "nbformat": 4,
 "nbformat_minor": 2
}
