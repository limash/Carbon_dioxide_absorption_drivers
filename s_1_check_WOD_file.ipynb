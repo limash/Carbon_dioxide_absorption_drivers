{
 "cells": [
  {
   "cell_type": "markdown",
   "metadata": {},
   "source": [
    "### Check available data"
   ]
  },
  {
   "cell_type": "code",
   "execution_count": 1,
   "metadata": {},
   "outputs": [],
   "source": [
    "%matplotlib inline \n",
    "\n",
    "import numpy as np\n",
    "import matplotlib.pyplot as plt\n",
    "import pandas as pd\n",
    "import xarray as xr"
   ]
  },
  {
   "cell_type": "markdown",
   "metadata": {},
   "source": [
    "#### Read a World Ocean Database (WOD) nc file (rectangle near to the eastern part of the Wadden Sea) which is produced by Ocean Data Viewer (ODV), var1 is depth"
   ]
  },
  {
   "cell_type": "code",
   "execution_count": 2,
   "metadata": {},
   "outputs": [],
   "source": [
    "ds = xr.open_dataset('wadden_sea.nc')\n",
    "df = ds.to_dataframe()\n",
    "df = df[(df.date_time > '2000-01-01 00:00:00.0')]\n",
    "df = df[['longitude', 'latitude', 'date_time'\n",
    "        ,'var1', 'var2', 'var3', 'var4', 'var5', 'var6', 'var7'\n",
    "        ,'var8', 'var9', 'var10', 'var11', 'var12', 'var13', 'var14']]\n",
    "df.columns = ['longitude', 'latitude', 'date_time'\n",
    "             ,'Depth', 'Temperature', 'Salinity', 'Oxygen', 'Phosphate', 'Silicate', 'Nitrate'\n",
    "             ,'Nitrite', 'pH', 'Chlorophyll a', 'Plankton biomass', 'Alkalinity', 'NO2+NO3', 'pCO2']\n",
    "df['Oxygen'] = df['Oxygen']*44.661 # 1 ml/l = 10^3/22.391 = 44.661 μmol/l\n",
    "df['Day of year'] = df.date_time.dt.dayofyear.values"
   ]
  },
  {
   "cell_type": "code",
   "execution_count": 3,
   "metadata": {},
   "outputs": [],
   "source": [
    "df_01to10 = df[(df.Depth < 10)]\n",
    "df_10to20 = df[(df.Depth >= 10) & (df.Depth < 20)]\n",
    "df_20to30 = df[(df.Depth >= 20) & (df.Depth < 30)]\n",
    "df_30to40 = df[(df.Depth >= 30) & (df.Depth < 40)]"
   ]
  },
  {
   "cell_type": "code",
   "execution_count": 4,
   "metadata": {},
   "outputs": [],
   "source": [
    "def process_data(item):\n",
    "    item = item.groupby(['Day of year']).mean()\n",
    "    item = item.reindex(index=range(1,366))\n",
    "    item = item.interpolate(method='linear',limit_direction='forward')\n",
    "    item.loc[0:16,:] = item[-1:].values\n",
    "    item.loc[0:16,'Chlorophyll a'] = 0\n",
    "    item = item.interpolate(method='linear',limit_direction='both')\n",
    "    item = item.rolling(window=16).mean()\n",
    "    item = item.interpolate(method='linear',limit_direction='both')\n",
    "    \n",
    "    return item"
   ]
  },
  {
   "cell_type": "code",
   "execution_count": 5,
   "metadata": {},
   "outputs": [],
   "source": [
    "dflist = list(map(process_data, [df_01to10, df_10to20, df_20to30, df_30to40]))"
   ]
  },
  {
   "cell_type": "markdown",
   "metadata": {},
   "source": [
    "dflist contains 4 arrays of data averaged through 0-10, 10-20, 20-30, 30-40 m respectively; checking them it is clear that we do not have enough data in the layers apart from the top layer"
   ]
  },
  {
   "cell_type": "code",
   "execution_count": 6,
   "metadata": {},
   "outputs": [
    {
     "data": {
      "image/png": "[encoded data removed]",
      "text/plain": [
       "<Figure size 720x144 with 1 Axes>"
      ]
     },
     "metadata": {
      "needs_background": "light"
     },
     "output_type": "display_data"
    }
   ],
   "source": [
    "item = dflist[0]\n",
    "name = 'Nitrate'\n",
    "plt.plot(item.index, item[name]); plt.gcf().set_size_inches(10,2);\n",
    "plt.title(name); plt.xlabel('Day'); plt.ylabel(name);"
   ]
  },
  {
   "cell_type": "code",
   "execution_count": null,
   "metadata": {},
   "outputs": [],
   "source": []
  }
 ],
 "metadata": {
  "jupytext": {
   "text_representation": {
    "extension": ".Rmd",
    "format_name": "rmarkdown",
    "format_version": "1.0",
    "jupytext_version": "0.8.6"
   }
  },
  "kernelspec": {
   "display_name": "Python 3",
   "language": "python",
   "name": "python3"
  },
  "language_info": {
   "codemirror_mode": {
    "name": "ipython",
    "version": 3
   },
   "file_extension": ".py",
   "mimetype": "text/x-python",
   "name": "python",
   "nbconvert_exporter": "python",
   "pygments_lexer": "ipython3",
   "version": "3.7.6"
  }
 },
 "nbformat": 4,
 "nbformat_minor": 4
}
