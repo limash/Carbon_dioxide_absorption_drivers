{
 "cells": [
  {
   "cell_type": "markdown",
   "metadata": {},
   "source": [
    "## Carbon dioxide absorption drivers by seawater in the coastal area"
   ]
  },
  {
   "cell_type": "markdown",
   "metadata": {},
   "source": [
    "**Correspondence:**\n",
    "Shamil Yakubov, yakubov.sha@gmail.com"
   ]
  },
  {
   "cell_type": "markdown",
   "metadata": {},
   "source": [
    "### Introduction"
   ]
  },
  {
   "cell_type": "markdown",
   "metadata": {},
   "source": [
    "The coastal ocean is a biogeochemically active area that establishes a link between the atmosphere, the water column, and sediments.\n",
    "Thus, among others the local carbon cycling should be affected by some specific coastal area processes.\n",
    "Indeed, it has been proposed that some shelf areas act as a carbon pump absorbing atmospheric $\\text{CO}_2$ and transferring it into the ocean ([Tsunogai et al., 1999]; [Thomas et al., 2004]).\n",
    "Absorption capabilities are geographically dependent.\n",
    "It was reported that temperate coastal areas, in general, absorb $\\text{CO}_2$ from the atmosphere, while high and low latitude areas act as sources of $\\text{CO}_2$ ([Cai et al., 2006]).\n",
    "A $\\text{CO}_2$ atmosphere-seawater exchange is a function of difference between partial pressures ($\\text{pCO}_2$) of carbon dioxide in atmosphere and seawater.\n",
    "$\\text{pCO}_2$ in seawater depends mainly on temperature and biological activities ([Thomas et al., 2005]).\n",
    "Considering biological activities, on one side high productivity of coastal areas ([Gattuso et al., 1998]) enhance uptake of $\\text{CO}_2$, but on another, the degradation of additional organics coming from the land releases $\\text{CO}_2$ ([Bozec et al., 2006]).\n",
    "So, the net metabolism (autotrophy or heterotrophy) determines the $\\text{CO}_2$ uptake status of the specific area.\n",
    "\n",
    "[Tsunogai et al., 1999]: https://doi.org/10.3402/tellusb.v51i3.16468\n",
    "[Thomas et al., 2004]: https://doi.org/10.1126/science.1095491\n",
    "[Cai et al., 2006]: https://doi.org/10.1029/2006GL026219\n",
    "[Thomas et al., 2005]: https://doi.org/10.5194/bg-2-87-2005\n",
    "[Gattuso et al., 1998]: https://doi.org/10.1146/annurev.ecolsys.29.1.405\n",
    "[Bozec et al., 2006]: https://doi.org/10.4319/lo.2006.51.6.2746"
   ]
  },
  {
   "cell_type": "markdown",
   "metadata": {},
   "source": [
    "Except of increased uptake of dissolved inorganic carbon (DIC) by autotrophs due to high biological activity in the coastal areas there is one more candidate, which can apparently enhance uptake of $\\text{CO}_2$.\n",
    "([Thomas et al., 2009]) proposed that alkalinity generation in coastal area sediments can impact the $\\text{CO}_2$ absorption by seawater.\n",
    "The alkalinity determines the buffer capacity of sea water.\n",
    "Roughly larger alkalinity values can cause more $\\text{CO}_2$ absorption by the ocean.\n",
    "The anaerobic degradation of organic matter (OM), which occurs mainly in sediments, generates total alkalinity (TA) ([Wolf-Gladrow et al., 2007]).\n",
    "The proximity of sediments and atmosphere and the large amount of OM available in the coastal area make it possible for anaerobic degradation in sediments to be an important process in $\\text{CO}_2$ exchange of the atmosphere with seawater.\n",
    "Thus, biogeochemical processes in sediments can determine the processes at the atmosphere - water interface.\n",
    "\n",
    "[Thomas et al., 2009]: https://doi.org/10.5194/bg-6-267-2009\n",
    "[Wolf-Gladrow et al., 2007]: https://doi.org/10.1016/j.marchem.2007.01.006"
   ]
  },
  {
   "cell_type": "markdown",
   "metadata": {},
   "source": [
    "One of the examples of coastal systems absorbing $\\text{CO}_2$ with a relatively large shallow area along the coast (which is called the Wadden Sea) is the North Sea.\n",
    "According to the field data [Thomas et al. (2009)] proposed that the Wadden Sea is an essential source of alkalinity for the southern North Sea and that sedimentary TA generation in the Wadden Sea explains the seasonal variability of TA in the southern North Sea.\n",
    "Authors explained the positive yearly input of TA from the Wadden Sea by alkalinity generation due to irreversible processes of denitrification (degassing of $\\text{N}_2$) and sulfate reduction (degassing of $\\text{H}_2\\text{S}$ or burying of pyrite) in the Wadden Sea sediments.\n",
    "Authors mentioned that only net TA gain (a shortcut for the net TA gain at the complete annual circle due to denitrification and sulfate reduction) causes net $\\text{CO}_2$ uptake from the atmosphere.\n",
    "Using literature data, they proposed denitrification as a proxy of net TA gain in the Wadden Sea, calculated the amount of alkalinity can be generated in the Wadden Sea sediments and then extrapolated it to the global coast area.\n",
    "According to the derived net TA gain [Thomas et al. (2009)] proposed the associated amount of $\\text{CO}_2$ uptake.\n",
    "\n",
    "[Thomas et al. (2009)]: https://doi.org/10.5194/bg-6-267-2009"
   ]
  },
  {
   "cell_type": "markdown",
   "metadata": {},
   "source": [
    "[Hu and Cai (2011)] mentioned that denitrification cannot be used as a proxy of alkalinity generation since it is partly balanced by nitrification.\n",
    "The authors stated that differentiating the sources of nitrates is important in determination of the ocean margin denitrification significance on global alkalinity budget.\n",
    "According to [Hu and Cai (2011)] considering $\\text{N}$ cycle only net loss of allochthonous nitrate through $\\text{N}_2$ evasion during denitrification causes net alkalinity production.\n",
    "According to their investigation authors proposed much smaller global ocean margin net alkalinity production values comparing to the values proposed by [Thomas et al. (2009)].\n",
    "\n",
    "[Hu and Cai (2011)]: https://doi.org/10.1029/2010GB003859\n",
    "[Thomas et al. (2009)]: https://doi.org/10.5194/bg-6-267-2009"
   ]
  },
  {
   "cell_type": "markdown",
   "metadata": {},
   "source": [
    "[Schwichtenberg (2013)] comparing to [Thomas et al. (2009)] proposed smaller flux of alkalinity from the Wadden Sea to the North Sea, but still confirmed that the Wadden Sea is a source of alkalinity for the North Sea.\n",
    "The origin of this flux was not considered in that study.\n",
    "[Yakubov] according to total OM available for degradation in the Wadden Sea using a newly developed biogeochemical model calculated the range of TA fluxes through the Sediment-Water interface in the Wadden Sea and then estimated TA input from the Wadden Sea to the North Sea which was the same order with the previously published estimations of [Thomas et al. (2009)] and [Schwichtenberg (2013)].\n",
    "However, model calculations have shown that TA flux from the Wadden Sea to the North Sea is not due to irreversible processes mostly, but can be due to concomitant flux of $\\text{NH}_4^+$ and opposite flux of $\\text{NO}_3^-$.\n",
    "\n",
    "[Thomas et al. (2009)]: https://doi.org/10.5194/bg-6-267-2009\n",
    "[Schwichtenberg (2013)]: https://pure.mpg.de/rest/items/item_2245755/component/file_2245756/content\n",
    "[Yakubov]: https://github.com/limash/Alkalinity_in_the_Wadden_Sea"
   ]
  },
  {
   "cell_type": "markdown",
   "metadata": {},
   "source": [
    "[Brenner et al. (2016)] according to the field data calculated the impact of sedimentary alkalinity release on the water column $\\text{CO}_2$ system in the North Sea.\n",
    "Their results showed that sediments are the important source of alkalinity in shallow coastal areas and should be regarded as a key component of $\\text{CO}_2$ dynamics of shallow coastal systems.\n",
    "[Brenner et al. (2016)] used their measurements to estimate the sedimentary alkalinity efflux in the southern North Sea and the literature data to estimate the alkalinity consumption in the water column of the southern North Sea.\n",
    "The net alkalinity was derived from the difference of sedimentary alkalinity efflux and water column alkalinity consumption (so the ideas of [Hu and Cai (2011)] were taken into account), then according to the derived net alkalinity release authors calculated the associated amount of DIC increase in the water column of the southern North Sea.\n",
    "\n",
    "[Brenner et al. (2016)]: https://doi.org/10.5194/bg-13-841-2016\n",
    "[Hu and Cai (2011)]: https://doi.org/10.1029/2010GB003859"
   ]
  },
  {
   "cell_type": "markdown",
   "metadata": {},
   "source": [
    "The idea of this study is to establish how additional alkalinity generated in the coastal area sediments influences on the $\\text{CO}_2$ atmosphere-seawater exchange.\n",
    "Also, we want to establish the influence of pure allochthonous TA input seasonality, considering the case when allochthonous alkalinity integrates to zero.\n",
    "$\\text{pCO}_2$ is a function of DIC, TA, temperature, salinity, and pressure (see, for example, [Zeebe and Wolf-Gladrow, 2001]).\n",
    "Similar TA in different seasons can result in different $\\text{pCO}_2$ (since other parameters like DIC, temperature, etc. can be different) and, therefore, a different $\\text{CO}_2$ uptake by the ocean.\n",
    "Thus, even with a yearly zero allochthonous input of TA (but the one that changes the seasonal TA profile) a corresponding yearly atmosphere-seawater $\\text{CO}_2$ exchange can vary.\n",
    "To be more specific we consider the Wadden Sea - the German Bight (the part of the southern North Sea) system.\n",
    "In the Wadden Sea the average value of TA is higher than in the adjacent North Sea ([Thomas et al., 2009]) and with the relevant conditions, the TA rich seawater can enter the North Sea.\n",
    "\n",
    "\n",
    "[Zeebe and Wolf-Gladrow, 2001]: https://www.elsevier.com/books/co2-in-seawater-equilibrium-kinetics-isotopes/zeebe/978-0-444-50946-8\n",
    "[Thomas et al., 2009]: https://doi.org/10.5194/bg-6-267-2009"
   ]
  },
  {
   "cell_type": "markdown",
   "metadata": {},
   "source": [
    "Thus, we want to clarify the role of sedimentary alkalinity generation on $\\text{CO}_2$ atmosphere-seawater exchange in coastal area considering the Wadden Sea - the southern North Sea area answering to the questions:\n",
    "1. whether allochthonous alkalinity can influence on $\\text{CO}_2$ atmosphere-seawater exchange dynamics;\n",
    "2. whether the seasonality of advective TA input can alter $\\text{CO}_2$ atmosphere-seawater exchange dynamics (pure seasonality without considering any yearly TA input);\n",
    "3. establish the importance of allochthonous alkalinity;\n",
    "4. check the contribution of temperature to $\\text{pCO}_2$ vs biological contribution to $\\text{pCO}_2$ with and without additional alkalinity allochthonous fluxes."
   ]
  }
 ],
 "metadata": {
  "kernelspec": {
   "display_name": "Python 3",
   "language": "python",
   "name": "python3"
  },
  "language_info": {
   "codemirror_mode": {
    "name": "ipython",
    "version": 3
   },
   "file_extension": ".py",
   "mimetype": "text/x-python",
   "name": "python",
   "nbconvert_exporter": "python",
   "pygments_lexer": "ipython3",
   "version": "3.8.2"
  }
 },
 "nbformat": 4,
 "nbformat_minor": 2
}
