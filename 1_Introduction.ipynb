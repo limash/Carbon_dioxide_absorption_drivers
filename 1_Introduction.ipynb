{
 "cells": [
  {
   "cell_type": "markdown",
   "metadata": {},
   "source": [
    "## Carbon dioxide absorption drivers by seawater in the coastal area"
   ]
  },
  {
   "cell_type": "markdown",
   "metadata": {},
   "source": [
    "**Correspondence:**\n",
    "Shamil Yakubov, yakubov.sha@gmail.com"
   ]
  },
  {
   "cell_type": "markdown",
   "metadata": {},
   "source": [
    "### Abstract"
   ]
  },
  {
   "cell_type": "markdown",
   "metadata": {},
   "source": [
    "There are three central carbon dioxide seawater-atmosphere exchange controlling factors in the coastal area: alkalinity, temperature, and biological processes.\n",
    "The current study shows the importance of alkalinity generated in the coastal zone of the southern North Sea.\n",
    "This alkalinity reduces $\\text{CO}_2$ flux from seawater to the atmosphere in the southern North Sea approximately twice.\n",
    "High alkalinity preserves $\\text{CO}_2$ in surface seawater and can help “continental shelf pump” to store  $\\text{CO}_2$ on the larger time scales.\n",
    "Considering other $\\text{CO}_2$ absorption drivers in the southern North Sea, temperature effects dominate over the biological control at the annual scale, except the spring bloom."
   ]
  },
  {
   "cell_type": "markdown",
   "metadata": {},
   "source": [
    "### Introduction"
   ]
  },
  {
   "cell_type": "markdown",
   "metadata": {},
   "source": [
    "The coastal ocean is a biogeochemically active area that establishes a link between the atmosphere, seawater, and sediments.\n",
    "[Tsunogai et al., 1999] and [Thomas et al., 2004] proposed that some shelf areas act as a carbon pump absorbing atmospheric $\\text{CO}_2$ and transferring it into the ocean.\n",
    "The $\\text{CO}_2$ atmosphere-seawater exchange is a function of the difference between partial pressures of carbon dioxide ($\\text{pCO}_2$) in the atmosphere and seawater.\n",
    "Usually, $\\text{pCO}_2$ in seawater depends mainly on temperature and biological activities ([Thomas et al., 2005]).\n",
    "However, in the coastal area, alkalinity influence can be significant.\n",
    "Roughly, larger alkalinity values decrease seawater $\\text{pCO}_2$ causing $\\text{CO}_2$ absorption from the atmosphere, and there is high alkalinity measured in some coastal areas.\n",
    "\n",
    "[Tsunogai et al., 1999]: https://doi.org/10.3402/tellusb.v51i3.16468\n",
    "[Thomas et al., 2004]: https://doi.org/10.1126/science.1095491\n",
    "[Thomas et al., 2005]: https://doi.org/10.5194/bg-2-87-2005"
   ]
  },
  {
   "cell_type": "markdown",
   "metadata": {},
   "source": [
    "One example of coastal systems with high alkalinity is the southern North Sea.\n",
    "According to the field data [Thomas et al. (2009)] proposed that the Wadden Sea (an intertidal zone along Dutch, German, and Danish coasts) is the main source of alkalinity to the southern North Sea.\n",
    "The authors suggested that the anaerobic organic matter (OM) degradation processes are the main alkalinity generators in the Wadden Sea.\n",
    "They proposed that degassing of $\\text{N}_2$ during denitrification and degassing of $\\text{H}_2\\text{S}$ or burying of pyrite during sulfate reduction cause a net alkalinity gain, which in turn causes a net $\\text{CO}_2$ uptake from the atmosphere.\n",
    "Using literature data, [Thomas et al. (2009)] proposed denitrification (since it prevails over sulfate reduction) as a proxy of the net TA gain in the Wadden Sea.\n",
    "According to the derived net TA gain, [Thomas et al. (2009)] calculated the associated amount of $\\text{CO}_2$ uptake in the southern North Sea and then extrapolated it to the global coast.\n",
    "\n",
    "[Thomas et al. (2009)]: https://doi.org/10.5194/bg-6-267-2009"
   ]
  },
  {
   "cell_type": "markdown",
   "metadata": {},
   "source": [
    "[Hu and Cai (2011)] mentioned that denitrification can not be used as a proxy of alkalinity generation since it is partly balanced by nitrification.\n",
    "The authors stated that differentiating the sources of nitrates is essential in determining the ocean margin denitrification significance on the global alkalinity budget.\n",
    "According to [Hu and Cai (2011)], only allochthonous nitrate net loss during denitrification causes net alkalinity production.\n",
    "According to their investigation, the authors proposed a much smaller global ocean margin net alkalinity production values than the values proposed by [Thomas et al. (2009)].\n",
    "\n",
    "[Hu and Cai (2011)]: https://doi.org/10.1029/2010GB003859\n",
    "[Thomas et al. (2009)]: https://doi.org/10.5194/bg-6-267-2009"
   ]
  },
  {
   "cell_type": "markdown",
   "metadata": {},
   "source": [
    "[Schwichtenberg (2013)] comparing to [Thomas et al. (2009)] proposed a smaller flux of alkalinity from the Wadden Sea to the North Sea, but still confirmed that the Wadden Sea is a source of alkalinity for the North Sea.\n",
    "The origin of this flux was not considered in that study.\n",
    "[Yakubov] according to total OM available for degradation in the Wadden Sea using a newly developed biogeochemical model, calculated the range of TA fluxes through the sediment-water interface in the Wadden Sea and then estimated TA input from the Wadden Sea to the North Sea, which was the same order with the previously published estimations of [Thomas et al. (2009)] and [Schwichtenberg (2013)].\n",
    "Model calculations showed that the main components of TA flux from the Wadden Sea to the North Sea are the fluxes of $\\text{NH}_4^+$ and $\\text{NO}_3^-$.\n",
    "\n",
    "[Thomas et al. (2009)]: https://doi.org/10.5194/bg-6-267-2009\n",
    "[Schwichtenberg (2013)]: https://pure.mpg.de/rest/items/item_2245755/component/file_2245756/content\n",
    "[Yakubov]: https://github.com/limash/Alkalinity_in_the_Wadden_Sea"
   ]
  },
  {
   "cell_type": "markdown",
   "metadata": {},
   "source": [
    "[Brenner et al. (2016)], according to the field data, calculated the impact of sedimentary alkalinity release on the water column $\\text{CO}_2$ system in the North Sea.\n",
    "Their results showed that sediments are an important source of alkalinity in shallow coastal areas and should be regarded as a critical component of $\\text{CO}_2$ dynamics of shallow coastal systems.\n",
    "[Brenner et al. (2016)] used their measurements to estimate the sedimentary alkalinity efflux in the southern North Sea and the literature data to estimate the alkalinity consumption in the water column of the southern North Sea.\n",
    "The net alkalinity was derived from the difference of sedimentary alkalinity efflux and water column alkalinity consumption (so the ideas of [Hu and Cai (2011)] were taken into account).\n",
    "According to the derived net alkalinity release, the authors calculated the associated amount of dissolved inorganic carbon (DIC) increase in the southern North Sea's water.\n",
    "\n",
    "[Brenner et al. (2016)]: https://doi.org/10.5194/bg-13-841-2016\n",
    "[Hu and Cai (2011)]: https://doi.org/10.1029/2010GB003859"
   ]
  },
  {
   "cell_type": "markdown",
   "metadata": {},
   "source": [
    "The main goal of the current study is to establish how additional alkalinity generated in the coastal area sediments influences $\\text{CO}_2$ atmosphere-seawater exchange and compare it with seawater temperature and biological processes influence.\n",
    "As well, we want to study how DIC and TA seasonality change $\\text{CO}_2$ atmosphere-seawater exchange.\n",
    "To be more specific, we consider the Wadden Sea - the southern North Sea system.\n",
    "In the Wadden Sea, the average value of TA is higher than in the adjacent North Sea ([Thomas et al., 2009]), and with the relevant conditions, the TA rich seawater can enter the North Sea.\n",
    "\n",
    "[Thomas et al., 2009]: https://doi.org/10.5194/bg-6-267-2009"
   ]
  },
  {
   "cell_type": "markdown",
   "metadata": {},
   "source": [
    "Thus, we want to clarify the role of alkalinity generation in the coastal area on $\\text{CO}_2$ atmosphere-seawater exchange considering the Wadden Sea - the southern North Sea area answering the questions:\n",
    "1. How allochthonous TA and DIC coming from the Wadden Sea to the southern North Sea influence $\\text{CO}_2$ atmosphere-seawater exchange dynamics.\n",
    "2. Whether the seasonality of advective TA and DIC input can alter $\\text{CO}_2$ atmosphere-seawater exchange dynamics (pure seasonality without considering any year TA and DIC input). We also investigate the same question considering TA input only.\n",
    "3. Establish the importance of allochthonous alkalinity (what $\\text{CO}_2$ atmosphere-seawater exchange in the southern North Sea would be without allochthonous TA input from the Wadden Sea, but with allochthonous DIC input).\n",
    "4. Check the contribution of temperature to $\\text{pCO}_2$ vs. biological contribution to $\\text{pCO}_2$ with and without additional TA and DIC allochthonous fluxes."
   ]
  }
 ],
 "metadata": {
  "kernelspec": {
   "display_name": "Python 3",
   "language": "python",
   "name": "python3"
  },
  "language_info": {
   "codemirror_mode": {
    "name": "ipython",
    "version": 3
   },
   "file_extension": ".py",
   "mimetype": "text/x-python",
   "name": "python",
   "nbconvert_exporter": "python",
   "pygments_lexer": "ipython3",
   "version": "3.8.2"
  }
 },
 "nbformat": 4,
 "nbformat_minor": 2
}
