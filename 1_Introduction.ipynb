{
 "cells": [
  {
   "cell_type": "markdown",
   "metadata": {},
   "source": [
    "title:\n",
    "## Carbon dioxide absorption drivers by seawater in the coastal area\n",
    "v. 0.1"
   ]
  },
  {
   "cell_type": "markdown",
   "metadata": {},
   "source": [
    "**Correspondence:**\n",
    "Shamil Yakubov, yakubov.sha@gmail.com"
   ]
  },
  {
   "cell_type": "markdown",
   "metadata": {},
   "source": [
    "This study is in [IPython] notebook format.\n",
    "The capabilities of this format grants to make research more interactive and reproducible.\n",
    "Also, a version control system makes research upgradable.\n",
    "One can find the original, up-to-date work [here].\n",
    "Following the link, there are several IPython and Python files along with data files.\n",
    "IPython notebooks represent the usual for a research article structure.\n",
    "The supplementary IPython notebooks provide some calculations for this research.\n",
    "By running these notebooks, one can repeat the calculations described in this study.\n",
    "\n",
    "[IPython]: https://ipython.org/\n",
    "[here]: https://github.com/limash/ws_notebook"
   ]
  },
  {
   "cell_type": "markdown",
   "metadata": {},
   "source": [
    "### Introduction"
   ]
  },
  {
   "cell_type": "markdown",
   "metadata": {},
   "source": [
    "The coastal ocean is a biogeochemically active area that establishes a link between the atmosphere, the water column, and sediments.\n",
    "Thus, among others the local carbon cycling should be affected by some specific coastal area processes.\n",
    "Indeed, it has been proposed that some shelf areas act as a carbon pump absorbing atmospheric CO~2~ and transferring it into the ocean (Tsunogai et al., 1999; Thomas et al., 2004).\n",
    "Absorption capabilities are geographically dependent.\n",
    "It was reported that temperate coastal areas, in general, absorb CO~2~ from the atmosphere, while high and low latitude areas act as sources of CO~2~ (Cai et al., 2006).\n",
    "A CO~2~ atmosphere-seawater exchange is a function of difference between partial pressures (pCO~2~) of carbon dioxide in\n",
    "atmosphere and seawater.\n",
    "pCO~2~ in seawater depends mainly on temperature and biological activities (Thomas et al., 2005).\n",
    "Along with temperature seasonality, on one side high productivity of coastal areas (Gattuso et al., 1998) enhance uptake of CO~2~, but on another, the degradation of additional organics coming from the land releases CO~2~ (Bozec et al., 2006).\n",
    "So, the fraction of these processes determines the CO~2~ uptake status of the specific area."
   ]
  },
  {
   "cell_type": "markdown",
   "metadata": {},
   "source": [
    "Except of increased uptake of dissolved inorganic carbon (DIC) by autotrophs due to high biological activity in the coastal areas these is one more candidate, which can apparently enhance uptake of CO~2~.\n",
    "(Thomas et al., 2009) proposed that alkalinity generation in coastal area sediments can impact the CO~2~ absorption by seawater.\n",
    "The alkalinity determines the buffer capacity of sea water.\n",
    "Roughly larger alkalinity values can cause more CO~2~ absorption by the ocean.\n",
    "The anaerobic degradation of organic matter (OM), which occurs mainly in sediments, generates total alkalinity (TA) (Wolf-Gladrow et al., 2007).\n",
    "The proximity of sediments and atmosphere and the large amount of OM available in the coastal area make it possible for anaerobic degradation in sediments to be an important process in CO~2~ exchange of the atmosphere with seawater.\n",
    "Thus, biogeochemical processes in sediments can determine the processes at the atmosphere - water interface."
   ]
  },
  {
   "cell_type": "markdown",
   "metadata": {},
   "source": [
    "One of the examples of coastal systems absorbing CO~2~ with a relatively large shallow area along the coast (the Wadden Sea) is the North Sea.\n",
    "According to the field data (Thomas et al., 2009) proposed that the Wadden Sea is an essential source of alkalinity for the southern North Sea and that sedimentary TA generation in the Wadden Sea explains the seasonal variability of TA in the southern North Sea.\n",
    "Authors explained the positive yearly input of TA from the Wadden Sea by irreversible alkalinity generation due to denitrification (degassing of N~2~) and sulfate reduction (degassing of H~2~S or burying of pyrite) in the Wadden Sea sediments.\n",
    "Authors mentioned that only net TA gain (a shortcut for the net TA gain at the complete annual circle) causes net CO~2~ uptake from the atmosphere.\n",
    "Using literature data, they proposed denitrification as the main source of net TA gain in the Wadden Sea, calculated the amount of alkalinity can be generated in the Wadden Sea sediments and then extrapolated it to the global coast area.\n",
    "According to the derived net TA gain (Thomas et al., 2009) proposed the associated amount of CO~2~ uptake."
   ]
  },
  {
   "cell_type": "markdown",
   "metadata": {},
   "source": [
    "(Hu and Cai, 2011) mentioned that denitrification cannot be used as a proxy of alkalinity generation since it is partly balanced by nitrification.\n",
    "The authors stated that differentiating the sources of nitrates is important in determination of the ocean margin denitrification significance on global alkalinity budget.\n",
    "According to (Hu and Cai, 2011) considering N cycle only net loss of allochthonous nitrate through N~2~ evasion during denitrification causes net alkalinity production.\n",
    "According to their investigation authors proposed much smaller global ocean margin net alkalinity production values comparing to the values proposed by (Thomas et al., 2009)."
   ]
  },
  {
   "cell_type": "markdown",
   "metadata": {},
   "source": [
    "(Schwichtenberg, 2013) comparing to (Thomas et al., 2009) proposed smaller fluxes of alkalinity from the Wadden Sea to the North Sea, but still confirmed that the Wadden Sea is a source of alkalinity for the North Sea.\n",
    "Yakubov (?) considering total OM available for degradation in the Wadden Sea estimations using a newly developed biogeochemical model calculated possible TA fluxes through the Sediment-Water interface in the Wadden Sea and the corresponding TA anomalies in the water column of the Wadden Sea.\n",
    "Based on these calculations then the rough estimation of TA input from the Wadden Sea to the North Sea was proposed which is the same order with the previously published estimations of (Thomas et al., 2009) and (Schwichtenberg, 2013)."
   ]
  },
  {
   "cell_type": "markdown",
   "metadata": {},
   "source": [
    "(Brenner et al., 2016) according to the field data calculated the impact of sedimentary alkalinity release on the water column CO~2~ system in the North Sea.\n",
    "Their results showed that sediments are an important source of alkalinity in shallow coastal areas and should be regarded as\n",
    "a key component of CO~2~ dynamics of shallow coastal systems.\n",
    "(Brenner et al., 2016) used their measurements to estimate the sedimentary alkalinity efflux in the southern North Sea and the literature data to estimate the alkalinity consumption in the water column of the southern North Sea.\n",
    "The net alkalinity was derived from the difference of sedimentary alkalinity efflux and water column alkalinity consumption (so therefore the ideas from (Hu and Cai, 2011) were taken into account), then according to the derived net alkalinity release authors calculated the associated amount of DIC increase in the water column of the southern North Sea."
   ]
  },
  {
   "cell_type": "markdown",
   "metadata": {},
   "source": [
    "In this study we want to establish how additional alkalinity generated in the coastal area sediments influences on the CO~2~ atmosphere-seawater exchange.\n",
    "We estimate the margins of how an additional advective (allochthonous) TA input can influence on CO~2~ atmosphere-seawater exchange comparing to the local biological processes and temperature seasonality.\n",
    "Also we establish the influence of pure TA seasonality.\n",
    "pCO2 in the seawater varies strongly with temperature (Zeebe and Wolf-Gladrow, 2001) and depends on CO~2~ concentration.\n",
    "CO~2~ concentration depends on DIC and pH, and pH depends on TA and DIC.\n",
    "Similar TA in different seasons can result in different pCO~2~ and, therefore, a different CO~2~ uptake by the ocean.\n",
    "Thus, even with a yearly zero allochthonous input of TA (but the one which changes the seasonal TA profile) a corresponding yearly atmosphere-seawater CO~2~ exchange can change."
   ]
  },
  {
   "cell_type": "markdown",
   "metadata": {},
   "source": [
    "To be more specific we consider the Wadden Sea - the German Bight (the part of the southern North Sea) system.\n",
    "In the Wadden Sea the average value of TA is higher than in the adjacent North Sea (Thomas et al., 2009).\n",
    "Thus, we want to clarify the role of sedimentary alkalinity generation on CO~2~ atmosphere-seawater exchange in coastal area\n",
    "considering the Wadden Sea -- the southern North Sea area answering to the questions:\n",
    "1) if only net alkalinity gain can cause elevated values of alkalinity and therefore influence on CO~2~ atmosphere-seawater exchange dynamics;\n",
    "2) if the seasonality of advective TA input can alter CO~2~ atmosphere-seawater exchange dynamics (pure seasonality without considering different mean average values as in the first case);\n",
    "3) establish the importance of sedimentary alkalinity generation;\n",
    "4) check the contribution of temperature to pCO~2~ vs biological contribution to pCO~2~ with and without additional alkalinity allochthonous fluxes."
   ]
  },
  {
   "cell_type": "code",
   "execution_count": null,
   "metadata": {},
   "outputs": [],
   "source": []
  }
 ],
 "metadata": {
  "kernelspec": {
   "display_name": "Python 3",
   "language": "python",
   "name": "python3"
  },
  "language_info": {
   "codemirror_mode": {
    "name": "ipython",
    "version": 3
   },
   "file_extension": ".py",
   "mimetype": "text/x-python",
   "name": "python",
   "nbconvert_exporter": "python",
   "pygments_lexer": "ipython3",
   "version": "3.7.6"
  }
 },
 "nbformat": 4,
 "nbformat_minor": 2
}
