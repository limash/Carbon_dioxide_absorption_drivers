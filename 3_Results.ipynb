{
 "cells": [
  {
   "cell_type": "markdown",
   "metadata": {},
   "source": [
    "### Results and discussion"
   ]
  },
  {
   "cell_type": "markdown",
   "metadata": {},
   "source": [
    "Here we answer separately the tasks proposed in Introduction:\n",
    "1. whether allochthonous alkalinity can influence on $\\text{CO}_2$ atmosphere-seawater exchange dynamics;\n",
    "2. whether the seasonality of advective TA input can alter $\\text{CO}_2$ atmosphere-seawater exchange dynamics (pure seasonality without considering any yearly TA input);\n",
    "3. establish the importance of allochthonous alkalinity;\n",
    "4. check the contribution of temperature to $\\text{pCO}_2$ vs biological contribution to $\\text{pCO}_2$ with and without additional alkalinity allochthonous fluxes."
   ]
  },
  {
   "cell_type": "markdown",
   "metadata": {},
   "source": [
    "#### The test case 1: Allochthonous alkalinity infuence"
   ]
  },
  {
   "cell_type": "markdown",
   "metadata": {},
   "source": [
    "In the first test case we estimate how allochthonous alkalinity can change the $\\text{CO}_2$ atmosphere - seawater transfer.\n",
    "To do it we compare **S-baseline** and **S-TA_DIC_inflow** scenarios.\n",
    "The first one represents no advective TA and DIC influence; the second takes into account the inflow of allochthonous TA and DIC.\n",
    "We consider DIC inflow along with TA since some alkalinity generating processes (like anaerobic OM degradation) generate considerable amount of DIC as well.\n",
    "Thus, we shall take it into account since our final idea is to estimate how biogeochemical processes of coastal area can change the $\\text{CO}_2$ atmosphere - seawater transfer."
   ]
  },
  {
   "cell_type": "markdown",
   "metadata": {},
   "source": [
    "![Image](misc/R_TA_DIC_inflow_1.png \"Figure 1\")"
   ]
  },
  {
   "cell_type": "markdown",
   "metadata": {},
   "source": [
    "**Figure R1.** Blue line - **S-baseline** scenario (average DIC = 2113 $\\text{mmol m}^{-3}$); orange line - **S-TA_DIC_inflow** scenario (average DIC = 2150 $\\text{mmol m}^{-3}$)."
   ]
  },
  {
   "cell_type": "markdown",
   "metadata": {},
   "source": [
    "Considering Fig. R1 we see the year profile of DIC for the cases without (a blue line) and with (an orange line) allochthonous TA and DIC input.\n",
    "The minimum value of DIC for the blue line is 2065 $\\text{mmol m}^{-3}$, the maximum is 2140 $\\text{mmol m}^{-3}$.\n",
    "Therefore, the annual difference is 75 $\\text{mmol m}^{-3}$.\n",
    "The bloom starts in the middle of April and continues till the beginnig of July approximately.\n",
    "The annual varience of DIC corresponding to scenario with allochthonous TA and DIC inflow is more prominent.\n",
    "The minimum DIC value for the orange line is 1968 $\\text{mmol m}^{-3}$, the maximum hits 2223 $\\text{mmol m}^{-3}$.\n",
    "Thus, the difference reaches 255 $\\text{mmol m}^{-3}$, which is significantly higher comparing to the blue line.\n",
    "The bloom is in the same period as for the blue line.\n",
    "The values and range of DIC concentrations are more reasonable for the Wadden Sea then for the North Sea (see, for example, [Schwichtenberg (2013)] p. 97 Table 4.1), which is not suprising since we consider the area adjoining the Wadden Sea.\n",
    "\n",
    "[Schwichtenberg (2013)]: https://pure.mpg.de/rest/items/item_2245755/component/file_2245756/content"
   ]
  },
  {
   "cell_type": "markdown",
   "metadata": {},
   "source": [
    "![Image](misc/R_TA_DIC_inflow_2.png \"Figure 2\")"
   ]
  },
  {
   "cell_type": "markdown",
   "metadata": {},
   "source": [
    "**Figure R2.** Blue line - **S-baseline** scenario (average TA = 2292 $\\text{mmol m}^{-3}$); orange line - **S-TA_DIC_inflow** scenario (average TA = 2312 $\\text{mmol m}^{-3}$)."
   ]
  },
  {
   "cell_type": "markdown",
   "metadata": {},
   "source": [
    "Figure R2 shows the alkalinity distribution for the two cases, with advective TA and DIC inflow (an orange line) and without (a blue line).\n",
    "The blue line is flatter, the minimum year TA value equals 2268 $\\text{mmol m}^{-3}$, the maximum year TA value equals 2307 $\\text{mmol m}^{-3}$, so the annual difference is 39 $\\text{mmol m}^{-3}$.\n",
    "The orange line is steeper, the minimum is 2257 $\\text{mmol m}^{-3}$, the maximum reaches 2366 $\\text{mmol m}^{-3}$, so the annual range is 109 $\\text{mmol m}^{-3}$.\n",
    "The annual profile of orange line, which corresponds to the case with advective TA and DIC influence, corresponds to the measured profiles of alkalinity in the regions of the southern North Sea close to the Wadden Sea ([Voynova et al., 2019]).\n",
    "\n",
    "[Voynova et al., 2019]: https://doi.org/10.1002/lno.11103"
   ]
  },
  {
   "cell_type": "markdown",
   "metadata": {},
   "source": [
    "![Image](misc/R_TA_DIC_inflow_3.png \"Figure 3\")"
   ]
  },
  {
   "cell_type": "markdown",
   "metadata": {},
   "source": [
    "**Figure R3.** Blue line - **S-baseline** scenario (average $\\delta$pCO$_2$ = 1 $\\text{ppm}$); orange line - **S-TA_DIC_inflow** scenario (average $\\delta$pCO$_2$ = 84 $\\text{ppm}$)."
   ]
  },
  {
   "cell_type": "markdown",
   "metadata": {},
   "source": [
    "In the Fig. R3 we provide $\\delta$pCO$_2$ difference between seawater and the atmosphere.\n",
    "The values are in correspondance with values measured in the Wadden Sea ([Santos et al., 2015]).\n",
    "For the blue line, the maximum value is 135 $\\text{ppm}$, the minimum is -110 $\\text{ppm}$.\n",
    "For the orange line, the maximum value is 342 $\\text{ppm}$, the minimum is -215 $\\text{ppm}$.\n",
    "\n",
    "[Santos et al., 2015]: https://doi.org/10.1016/j.marchem.2015.02.005"
   ]
  },
  {
   "cell_type": "markdown",
   "metadata": {},
   "source": [
    "![Image](misc/R_TA_DIC_inflow_4.png \"Figure 4\")"
   ]
  },
  {
   "cell_type": "markdown",
   "metadata": {},
   "source": [
    "**Figure R4.** Blue line - **S-baseline** scenario (year CO$_2$ flux = 6 $\\text{mmol m}^{-2} \\text{year}^{-1}$); orange line - **S-TA_DIC_inflow** scenario (year CO$_2$ flux = -1813 $\\text{mmol m}^{-2} \\text{year}^{-1}$)."
   ]
  },
  {
   "cell_type": "markdown",
   "metadata": {},
   "source": [
    "The values of daily air-sea CO$_2$ flux that depicted in Fig. R4 are also in agreement with the reported values measured in the Wadden Sea ([Santos et al., 2015]).\n",
    "The maximum of the flux without additional TA and DIC input equals 7 $\\text{mmol m}^{-2} \\text{day}^{-1}$, minimum equals -8 $\\text{mmol m}^{-2} \\text{day}^{-1}$.\n",
    "The maximum of the flux with additional TA and DIC input equals 13 $\\text{mmol m}^{-2} \\text{day}^{-1}$, minimum equals -20 $\\text{mmol m}^{-2} \\text{day}^{-1}$.\n",
    "The negative fluxes mean that carbon dioxide effluxes from seawater to the atmosphere.\n",
    "\n",
    "[Santos et al., 2015]: https://doi.org/10.1016/j.marchem.2015.02.005"
   ]
  },
  {
   "cell_type": "markdown",
   "metadata": {},
   "source": [
    "To summarize there are the tables for the parameters presented above for the two cases, with and without TA and DIC input, so we can clearly see the differences.\n",
    "Additional TA and DIC input increases CO$_2$ efflux from seawater to the atmosphere."
   ]
  },
  {
   "cell_type": "markdown",
   "metadata": {},
   "source": [
    "**Table R1.** The values of some parameters without DIC and TA inflow influence."
   ]
  },
  {
   "cell_type": "markdown",
   "metadata": {},
   "source": [
    "||DIC, $\\text{mmol m}^{-3}$|TA, $\\text{mmol m}^{-3}$|$\\delta$pCO$_2$, $\\text{ppm}$|CO$_2$ flux, $\\text{mmol m}^{-2} \\text{day}^{-1}$|\n",
    "|-|-|-|-|-|\n",
    "|mean|2113|2292|1|6 (year flux, year$^{-1}$)|\n",
    "|min|2065|2268|-110|-8|\n",
    "|max|2140|2307|135|7|\n",
    "|$\\Delta$|75|39|245|15|"
   ]
  },
  {
   "cell_type": "markdown",
   "metadata": {},
   "source": [
    "**Table R2.** The values of some parameters with DIC and TA inflow influence."
   ]
  },
  {
   "cell_type": "markdown",
   "metadata": {},
   "source": [
    "||DIC, $\\text{mmol m}^{-3}$|TA, $\\text{mmol m}^{-3}$|$\\delta$pCO$_2$, $\\text{ppm}$|CO$_2$ flux, $\\text{mmol m}^{-2} \\text{day}^{-1}$|\n",
    "|-|-|-|-|-|\n",
    "|mean|2150|2312|84|-1813 (year flux, year$^{-1}$)|\n",
    "|min|1968|2257|-215|-20|\n",
    "|max|2223|2366|342|13|\n",
    "|$\\Delta$|255|109|557|33|"
   ]
  },
  {
   "cell_type": "markdown",
   "metadata": {},
   "source": [
    "#### The test case 2: Allochthonous TA and DIC seasonality influence"
   ]
  },
  {
   "cell_type": "markdown",
   "metadata": {},
   "source": [
    "To extract the effect of pure allochthonous TA and DIC seasonality influence we compare **S-baseline**, **S-TA_DIC_zero_average**, and **S-TA_zero_average** scenarios.\n",
    "The idea of this test case is to identify whether only net alkalinity input can facilitate net CO$_2$ uptake at the annual scale as it was stated by [Thomas et al., (2009)] and broader whether TA and DIC year non-zero inputs are necessary to change the seawater year CO$_2$ overall seawater-atmosphere exchange.\n",
    "**S-TA_DIC_zero_average** scenario provides no additional annual input of DIC and TA, but significantly changes the seasonality of these elements.\n",
    "The blue lines depicted futher are similar to the blue lines depicted in the R1 - R4 figures (**S-baseline** scenario).\n",
    "So here we focus on the orange lines, which show the adjusted parameters due to additional DIC and TA input.\n",
    "\n",
    "[Thomas et al., (2009)]: https://doi.org/10.5194/bg-6-267-2009"
   ]
  },
  {
   "cell_type": "markdown",
   "metadata": {},
   "source": [
    "![Image](misc/R_TA_DIC_zero_inflow_1.png \"Figure 1\")"
   ]
  },
  {
   "cell_type": "markdown",
   "metadata": {},
   "source": [
    "**Figure R5.** Blue line - **S-baseline** scenario (average DIC = 2113 $\\text{mmol m}^{-3}$); orange line - **S-TA_DIC_zero_average** scenario (average DIC = 2110 $\\text{mmol m}^{-3}$)."
   ]
  },
  {
   "cell_type": "markdown",
   "metadata": {},
   "source": [
    "The orange line in Fig. R5 shows a DIC year profile with advective DIC inflow, which does not change a year mean DIC value.\n",
    "The minumal DIC value is 1918 $\\text{mmol m}^{-3}$, the maximum is 2175 $\\text{mmol m}^{-3}$, the annual range is 257 $\\text{mmol m}^{-3}$.\n",
    "The range is approximately the same as it was for the first test case."
   ]
  },
  {
   "cell_type": "markdown",
   "metadata": {},
   "source": [
    "![Image](misc/R_TA_DIC_zero_inflow_2.png \"Figure 2\")"
   ]
  },
  {
   "cell_type": "markdown",
   "metadata": {},
   "source": [
    "**Figure R6.** Blue line - **S-baseline** scenario (average TA = 2292 $\\text{mmol m}^{-3}$); orange line - **S-TA_DIC_zero_average** scenario (average DIC = 2292 $\\text{mmol m}^{-3}$)."
   ]
  },
  {
   "cell_type": "markdown",
   "metadata": {},
   "source": [
    "There is a year TA profile with advective TA inflow which sums up to zero annualy in Fig. R6 (orange line).\n",
    "The profile has values during a year from 2234 $\\text{mmol m}^{-3}$ to 2343 $\\text{mmol m}^{-3}$, the range is the same as for the previous test case, 109 $\\text{mmol m}^{-3}$."
   ]
  },
  {
   "cell_type": "markdown",
   "metadata": {},
   "source": [
    "![Image](misc/R_TA_DIC_zero_inflow_3.png \"Figure 3\")"
   ]
  },
  {
   "cell_type": "markdown",
   "metadata": {},
   "source": [
    "**Figure R7.** Blue line - **S-baseline** scenario (average $\\delta$pCO$_2$ = 1 $\\text{ppm}$); orange line - **S-TA_DIC_zero_average** scenario (average $\\delta$pCO$_2$ = 21 $\\text{ppm}$)."
   ]
  },
  {
   "cell_type": "markdown",
   "metadata": {},
   "source": [
    "Figure R7 represents $\\delta$pCO$_2$ - the difference between seawater and the atmosphere CO$_2$ partial pressures.\n",
    "The orange line has the minimum of -238 ppm, the maximum of 246 ppm, so the annual range is of 484 ppm.\n",
    "So the annual range of CO$_2$ partial pressure differences comparing to the test case 1 is smaller (it was 557 ppm)."
   ]
  },
  {
   "cell_type": "markdown",
   "metadata": {},
   "source": [
    "![Image](misc/R_TA_DIC_zero_inflow_4.png \"Figure 4\")"
   ]
  },
  {
   "cell_type": "markdown",
   "metadata": {},
   "source": [
    "**Figure R8.** Blue line - **S-baseline** scenario (year CO$_2$ flux = 6 $\\text{mmol m}^{-2} \\text{year}^{-1}$); orange line - **S-TA_DIC_zero_average** scenario (year CO$_2$ flux = -431 $\\text{mmol m}^{-2} \\text{year}^{-1}$)."
   ]
  },
  {
   "cell_type": "markdown",
   "metadata": {},
   "source": [
    "The margin values of the seawater-atmosphere CO$_2$ flux (Fig. R8, orange line) are different comparing to the test case 1.\n",
    "The minimum value is -14 $\\text{mmol m}^{-2} \\text{day}^{-1}$, the maximum is 14 $\\text{mmol m}^{-2} \\text{day}^{-1}$.\n",
    "The difference is 28 $\\text{mmol m}^{-2} \\text{day}^{-1}$, which is smaller then for the test case 1.\n",
    "Still, the averall year flux is -431 $\\text{mmol m}^{-2} \\text{year}^{-1}$, so seawater in average excreets carbon dioxide although the averal input of allochthonous DIC (and TA) is zero.\n",
    "Thus, even zero inflow of TA and DIC in the annual scale can cause changes of resulting year the seawater-atmosphere CO$_2$ flux.\n",
    "To understand if year zero TA input can increase the resulting seawater-atmosphere CO$_2$ exchange check the next figure."
   ]
  },
  {
   "cell_type": "markdown",
   "metadata": {},
   "source": [
    "![Image](misc/R_TA_zero_inflow_1.png \"Figure 4\")"
   ]
  },
  {
   "cell_type": "markdown",
   "metadata": {},
   "source": [
    "**Figure R9.** Blue line - **S-baseline** scenario (year CO$_2$ flux = 6 $\\text{mmol m}^{-2} \\text{year}^{-1}$); orange line - **S-TA_zero_average** scenario (year CO$_2$ flux = 9 $\\text{mmol m}^{-2} \\text{year}^{-1}$)."
   ]
  },
  {
   "cell_type": "markdown",
   "metadata": {},
   "source": [
    "In the Fig. R9 the orange line represents the case with the allochthonous TA input summing up to zero in the end of a year.\n",
    "There is no any allochthonous DIC input in this scenario (**S-TA_zero_average**).\n",
    "This scenario can help to identify if net alkalinity is necessary to cause absorbtion of carbon dioxide by seawater with unchanged primary production and DIC values.\n",
    "In this scenario net alkalinity (the net TA gain at the complete annual circle) is equal to zero since there are no changes of TA in the end of a year.\n",
    "Year flux of carbon dioxide from the atmosphere to seawater is slightly bigger comparing to the scenarios with no allochthonous input of TA at all (9 $\\text{mmol m}^{-2} \\text{year}^{-1}$ and 6 $\\text{mmol m}^{-2} \\text{year}^{-1}$ correspondingly).\n",
    "Thus, in this case the resulting year carbon dioxide flux with TA inflow is approximately the same as without any TA inflow, still it is not exactly the same.\n",
    "So, it would not be valid to state that only net alkalinity cause a net uptake of CO$_2$."
   ]
  },
  {
   "cell_type": "markdown",
   "metadata": {},
   "source": [
    "**Table R3.** The values of some parameters with influence of DIC and TA inflows, which sum up to zero in the end of a year."
   ]
  },
  {
   "cell_type": "markdown",
   "metadata": {},
   "source": [
    "||DIC, $\\text{mmol m}^{-3}$|TA, $\\text{mmol m}^{-3}$|$\\delta$pCO$_2$, $\\text{ppm}$|CO$_2$ flux, $\\text{mmol m}^{-2} \\text{day}^{-1}$|\n",
    "|-|-|-|-|-|\n",
    "|mean|2110|2292|21|-431 (year flux, year$^{-1}$)|\n",
    "|min|1918|2234|-238|-14|\n",
    "|max|2175|2243|246|14|\n",
    "|$\\Delta$|257|109|484|28|"
   ]
  },
  {
   "cell_type": "markdown",
   "metadata": {},
   "source": [
    "#### The test case 3: Importance of allochthonous alkalinity"
   ]
  },
  {
   "cell_type": "markdown",
   "metadata": {},
   "source": [
    "In the first test case we established that the advective input of TA and DIC increases the flux of $\\text{CO}_2$ from seawater to the atmosphere.\n",
    "Without the corresponding TA inflow (with the DIC inflow only) the CO$_2$ outgassing to the atmosphere would be even bigger.\n",
    "To study the significance of the allochthonous TA input we consider the test case with only allochthonous DIC input.\n",
    "Thus, we compare **S-baseline** and **S-DIC** scenarios with **S-TA_DIC_inflow** scenario.\n",
    "In this test case we study how the sedimentary coastal processes generating TA decrease outgassing of carbon dioxide from seawater to the atmosphere."
   ]
  },
  {
   "cell_type": "markdown",
   "metadata": {},
   "source": [
    "![Image](misc/R_DIC_inflow_1.png \"Figure 1\")\n",
    "![Image](misc/R_DIC_inflow_2.png \"Figure 2\")"
   ]
  },
  {
   "cell_type": "markdown",
   "metadata": {},
   "source": [
    "**Figure R10.** Blue line - **S-baseline** scenario (average DIC = 2113 $\\text{mmol m}^{-3}$, average TA = 2292 $\\text{mmol m}^{-3}$); orange line - **S-DIC** scenario (average DIC = 2146 $\\text{mmol m}^{-3}$, average TA = 2292 $\\text{mmol m}^{-3}$)."
   ]
  },
  {
   "cell_type": "markdown",
   "metadata": {},
   "source": [
    "In the Fig. R10 we see the profiles of DIC and TA for the **S-baseline** scenario (blue line) and the **S-DIC** scenario (orange line).\n",
    "There is no additional input of TA in **S-DIC** scenario, so the blue and the orange TA curves overlay.\n",
    "The DIC curves are similar to the curves from Fig. 1, we have the similar DIC inflow in **S-TA_DIC_inflow** and **S-DIC** scenarios."
   ]
  },
  {
   "cell_type": "markdown",
   "metadata": {},
   "source": [
    "![Image](misc/R_DIC_inflow_3.png \"Figure 3\")"
   ]
  },
  {
   "cell_type": "markdown",
   "metadata": {},
   "source": [
    "**Figure R11.** Blue line - **S-baseline** scenario (average $\\delta$pCO$_2$ = 1 $\\text{ppm}$); orange line - **S-DIC** scenario (average $\\delta$pCO$_2$ = 150 $\\text{ppm}$)."
   ]
  },
  {
   "cell_type": "markdown",
   "metadata": {},
   "source": [
    "The orange line in Fig. R11 representing pCO$_2$ difference between seawater and the atmosphere has the minimum value of -223 ppm, the maximum value of 545 ppm.\n",
    "Thus, the year range is of 768 ppm, which is significantly higher than for the **S-TA_DIC_inflow** scenario (it was of 557 ppm).\n",
    "The partial pressure of carbon dioxide in seawater is much higher than in the atmosphere if there is no supplementary inflow of alkalinity, which could decrease it."
   ]
  },
  {
   "cell_type": "markdown",
   "metadata": {},
   "source": [
    "![Image](misc/R_DIC_inflow_4.png \"Figure 4\")"
   ]
  },
  {
   "cell_type": "markdown",
   "metadata": {},
   "source": [
    "**Figure R12.** Blue line - **S-baseline** scenario (year CO$_2$ flux = 6 $\\text{mmol m}^{-2} \\text{year}^{-1}$); orange line - **S-DIC** scenario (year CO$_2$ flux = -3263 $\\text{mmol m}^{-2} \\text{year}^{-1}$)."
   ]
  },
  {
   "cell_type": "markdown",
   "metadata": {},
   "source": [
    "The maximum value of seawater-atmosphere CO$_2$ flux is 13 $\\text{mmol m}^{-2} \\text{day}^{-1}$, seawater absorbs carbond dioxide during bloom; the minimum is -31 $\\text{mmol m}^{-2} \\text{day}^{-1}$, the rest of the year seawater is the source of CO$_2$ to the atmosphere (Fig. R12, orange line).\n",
    "The difference between the maximum and the minimum is 43 $\\text{mmol m}^{-2} \\text{day}^{-1}$, which is also like pCO$_2$ difference is higher comparing with **S-TA_DIC_inflow** scenario (33 $\\text{mmol m}^{-2} \\text{day}^{-1}$).\n",
    "Without alkalinity inflow the buffer capacity of seawater is lower.\n",
    "There is strong outgassing of carbon dioxide during autumn and winter months resulting in year CO$_2$ flux of 3263 $\\text{mmol m}^{-2} \\text{year}^{-1}$ from seawater to the atmosphere, it is almost twice bigger than for the **S-TA_DIC_inflow** scenario, which was of 1813 $\\text{mmol m}^{-2} \\text{year}^{-1}$.\n",
    "This test case can represent the situation when, for example, all allochthonous DIC is due to aerobic respiration and all biogeochemical processes generating TA are compensated."
   ]
  },
  {
   "cell_type": "markdown",
   "metadata": {},
   "source": [
    "**Table R4.** The values of some parameters' concentrations in the modeling box with influence of DIC inflow only."
   ]
  },
  {
   "cell_type": "markdown",
   "metadata": {},
   "source": [
    "||DIC, $\\text{mmol m}^{-3}$|TA, $\\text{mmol m}^{-3}$|$\\delta$pCO$_2$, $\\text{ppm}$|CO$_2$ flux, $\\text{mmol m}^{-2} \\text{day}^{-1}$|\n",
    "|-|-|-|-|-|\n",
    "|mean|2146|2292|150|-3263 (year flux, year$^{-1}$)|\n",
    "|min|1968|2268|-223|-31|\n",
    "|max|2213|2307|545|13|\n",
    "|$\\Delta$|245|39|768|43|"
   ]
  },
  {
   "cell_type": "markdown",
   "metadata": {},
   "source": [
    "#### Temperature and biological control"
   ]
  },
  {
   "cell_type": "markdown",
   "metadata": {},
   "source": [
    "[Thomas et al. (2005)] studied the contributions of temperature and biological $\\text{CO}_2$ consumption to $\\text{pCO}_2$ values.\n",
    "In this test case we calculate $\\delta\\text{pCO}_{2-bio}$ (the difference between maximum and minimum $\\text{pCO}_2$ values with similar temperature during the year, so the temperature effect is filtrated) and $\\delta\\text{pCO}_{2-temp}$ (similar but with no biological activities).\n",
    "For this cases we add the flux of allochthonous alkalinity from the Wadden Sea and see how it changes the corresponding values of $\\delta\\text{pCO}_2$.\n",
    "\n",
    "[Thomas et al. (2005)]: https://doi.org/10.5194/bg-2-323-2005"
   ]
  },
  {
   "cell_type": "markdown",
   "metadata": {},
   "source": [
    "#### Overview"
   ]
  },
  {
   "cell_type": "markdown",
   "metadata": {},
   "source": [
    "| Scenario | DIC, $\\text{mmol m}^{-3}$ | TA, $\\text{mmol m}^{-3}$ | $\\delta$pCO$_2$, $\\text{ppm}$ | CO$_2$ flux,  $\\text{mmol m}^{-2} \\text{year}^{-1}$ |\n",
    "|----------|---------|----------|-------------|--------------|\n",
    "| **S-baseline** | 2113 | 2292 | 1 | 6 |\n",
    "| **S-TA_DIC_influx** | 2150 | 2312 | 84 | -1813 |\n",
    "| **S-TA_DIC_zero_average** | 2110 | 2292 | 21 | -431 |\n",
    "| **S-DIC** | 2146 | 2292 | 150 | -3263 |\n",
    "| **S-noTEMP_noinflow** | 2112 | 2292 | 0 | 5 |\n",
    "| **S-noTEMP_influx** | 2150 | 2312 | 82 | -1817 |\n",
    "| **S-noBIO_noinflow** | 2114 | 2292 | 1 |  4 |\n",
    "| **S-noBIO_influx** | 2151 | 2312 | 85 | -1853 |"
   ]
  },
  {
   "cell_type": "markdown",
   "metadata": {},
   "source": [
    "![Image](misc/R_TA_DIC_inflow_3.png \"Figure 3\")"
   ]
  },
  {
   "cell_type": "markdown",
   "metadata": {},
   "source": [
    "**Figure R13.** Blue line - **S-baseline** scenario; orange line - **S-TA_DIC_influx** scenario."
   ]
  },
  {
   "cell_type": "markdown",
   "metadata": {},
   "source": [
    "![Image](misc/R_mean_temp_inflow.png \"Figure 3\")"
   ]
  },
  {
   "cell_type": "markdown",
   "metadata": {},
   "source": [
    "**Figure R14.** Blue line - **S-baseline** scenario; orange line - **S-noTEMP_influx** scenario."
   ]
  },
  {
   "cell_type": "markdown",
   "metadata": {},
   "source": [
    "![Image](misc/R_no_bio_inflow.png \"Figure 3\")"
   ]
  },
  {
   "cell_type": "markdown",
   "metadata": {},
   "source": [
    "**Figure R15.** Blue line - **S-baseline** scenario; orange line - **S-noBIO_influx** scenario."
   ]
  },
  {
   "cell_type": "markdown",
   "metadata": {},
   "source": [
    "#### Net alkalinity gain"
   ]
  },
  {
   "cell_type": "markdown",
   "metadata": {},
   "source": [
    "There are several authors use net alkalinity gain as a proxy for seawater $\\text{CO}_2$ consumption on the global scale."
   ]
  },
  {
   "cell_type": "markdown",
   "metadata": {},
   "source": [
    "According to the textbook about seawater carbon chemistry by [Zeebe and Wolf-Gladrow (2001)] \"the imbalance of the charge of the conservative ions is responsible for alkalinity\".\n",
    "Conservative ions are ions of strong acids and bases, which concentrations are unaffected by changes in pH, pressure, or temperature (the same textbook by [Zeebe and Wolf-Gladrow (2001)]).\n",
    "Net alkalinity gain suggests an increase of the alkalinity at the annual scale and therefore it should be caused by an increase of the imbalance of the charge of the conservative ions.\n",
    "It means that non-coservative anions of carbon (weak) acid constantly replace (or supplement) conservative ions, which in turn means steadily increasing alkalinity values on the global scale.\n",
    "If we assume that opposite processes balance (decrease) alkalinity on the global scale (nitrogen assimilation, sulfates input with terrestial fluxes, etc.) then conservative ions replace anions of carbon acid back.\n",
    "It will nullify net alkalinity gain and cancel its effect on the seawater CO$_2$ uptake capacity on the global scale.\n",
    "If opposite processes do not balance alkalinity, so alkalinity should increase on the global scale.\n",
    "\n",
    "[Zeebe and Wolf-Gladrow (2001)]: https://www.elsevier.com/books/co2-in-seawater-equilibrium-kinetics-isotopes/zeebe/978-0-444-50946-8"
   ]
  },
  {
   "cell_type": "markdown",
   "metadata": {},
   "source": [
    "To be more presice, consider a particular example.\n",
    "As previously mentioned, total alkalinity is equal to the charge difference between conservative cations and anions.\n",
    "According to [Drever (1982, p. 52)] conservative ions are ions such as $\\text{Na}^+$, $\\text{K}^+$, $\\text{Ca}^{2+}$, $\\text{Mg}^{2+}$, $\\text{Cl}^-$, $\\text{SO}_4^{2-}$, $\\text{NO}_3^-$, etc.\n",
    "Thus, following [Wolf-Gladrow et al. (2007)], geochemical definition of alkalinity (or explicitly conservative form of total alkalinity) is\n",
    "\n",
    "[Drever (1982, p. 52)]: https://doi.org/10.4319/lo.1983.28.3.0600a\n",
    "[Wolf-Gladrow et al. (2007)]: https://doi.org/10.1016/j.marchem.2007.01.006"
   ]
  },
  {
   "cell_type": "markdown",
   "metadata": {},
   "source": [
    "$\\text{TA}_{\\text{ec}} = \\lbrack\\text{Na}^{+}\\rbrack + 2\\lbrack\\text{Mg}^{2 +}\\rbrack + 2\\lbrack\\text{Ca}^{2 +}\\rbrack + \\lbrack \\text{K}^{+}\\rbrack + 2\\lbrack\\text{Sr}^{2 +}\\rbrack + \\text{TNH}_{3} - \\lbrack\\text{Cl}^{-}\\rbrack - \\lbrack\\text{Br}^{-}\\rbrack - \\lbrack\\text{NO}_{3}^{-}\\rbrack - \\text{TPO}_{4} - 2\\text{TSO}_{4} - \\text{THF} - \\text{THNO}_{2}$\n",
    "\n",
    ", where\n",
    "$\\text{TNH}_{3} = \\lbrack\\text{NH}_{3}\\rbrack + \\lbrack\\text{NH}_{4}^{+}\\rbrack$,\n",
    "$\\text{TPO}_{4} = \\lbrack\\text{H}_{3}\\text{PO}_{4}\\rbrack + \\lbrack \\text{H}_{2}\\text{PO}_{4}^{-}\\rbrack + \\lbrack\\text{HPO}_{4}^{2 -}\\rbrack + \\lbrack\\text{PO}_{4}^{3 -}\\rbrack$,\n",
    "$\\text{TSO}_{4} = \\lbrack\\text{SO}_{4}^{2 -}\\rbrack + \\lbrack\\text{HSO}_{4}^{-}\\rbrack$,\n",
    "$\\text{THF} = \\lbrack \\text{F}^{-}\\rbrack + \\lbrack\\text{HF}\\rbrack$, and\n",
    "$\\text{THNO}_{2} = \\lbrack\\text{NO}_{2}^{-}\\rbrack + \\lbrack\\text{HNO}_{2}\\rbrack$."
   ]
  },
  {
   "cell_type": "markdown",
   "metadata": {},
   "source": [
    "To get net alkalinity it is necessary to have some uncompensated processes increasing $\\text{TA}_{\\text{ec}}$.\n",
    "For example, denitrification, which consumes $\\text{NO}_{3}^{-}$, with consequent $\\text{N}_2$ evasion might be a source of net alkalinity gain.\n",
    "With the constant $\\text{NO}_{3}^{-}$ consumption prevailing its input the system should try to save its stability by absorbing $\\text{CO}_2$ from the atmosphere.\n",
    "It is clear when considering both explicitly conservative $\\text{TA}_{\\text{ec}}$ and the classical alkalinity expression ([Dickson, 1981]) ($\\text{TA}$).\n",
    "\n",
    "[Dickson, 1981]: https://doi.org/10.1016/0198-0149(81)90121-7"
   ]
  },
  {
   "cell_type": "markdown",
   "metadata": {},
   "source": [
    "$\\text{TA} = \\left\\lbrack \\text{HCO}_{3}^{-} \\right\\rbrack + 2\\left\\lbrack \\text{CO}_{3}^{2 -} \\right\\rbrack + \\left\\lbrack \\text{B}\\left( \\text{OH} \\right)_{4}^{-} \\right\\rbrack + \\left\\lbrack \\text{OH}^{-} \\right\\rbrack + \\left\\lbrack \\text{HP}\\text{O}_{4}^{2-} \\right\\rbrack + 2\\left\\lbrack \\text{PO}_{4}^{3 -} \\right\\rbrack + \\left\\lbrack \\text{H}_{3}\\text{SiO}_{4}^{-} \\right\\rbrack + \\left\\lbrack \\text{NH}_{3} \\right\\rbrack + \\left\\lbrack \\text{HS}^{-} \\right\\rbrack - \\left\\lbrack \\text{H}^{+} \\right\\rbrack_{F} - \\left\\lbrack \\text{HSO}_{4}^{-} \\right\\rbrack - \\left\\lbrack \\text{HF} \\right\\rbrack - \\lbrack \\text{H}_{3}\\text{PO}_{4}\\rbrack$"
   ]
  },
  {
   "cell_type": "markdown",
   "metadata": {},
   "source": [
    "The values of $\\text{TA}_{\\text{ec}}$ and $\\text{TA}$ should be equal and the seawater charge should be equal zero.\n",
    "Thus, increasing of TA due to nitrates consumption in $\\text{TA}_{\\text{ec}}$ expression should be accompanied with changes in $\\text{TA}$, for example by $\\text{CO}_2$ absorption from the atmosphere."
   ]
  },
  {
   "cell_type": "markdown",
   "metadata": {},
   "source": [
    "Assuming steady $\\text{CO}_2$ absorption from the atmosphere caused by steady $\\text{NO}_{3}^{-}$ consumption this process should not be compensated (no input of $\\text{NO}_{3}^{-}$) since it will cause the absorbed $\\text{CO}_2$ to efflux back to the atmosphere."
   ]
  },
  {
   "cell_type": "markdown",
   "metadata": {},
   "source": [
    "#### Conclusions"
   ]
  },
  {
   "cell_type": "markdown",
   "metadata": {},
   "source": [
    "To take part in the Resource Identification Initiative, please use the\n",
    "corresponding catalog number and RRID in your current manuscript. For\n",
    "more information about the project and for steps on how to search for an\n",
    "RRID, please click\n",
    "[here](http://www.frontiersin.org/files/pdf/letter_to_author.pdf)."
   ]
  },
  {
   "cell_type": "code",
   "execution_count": null,
   "metadata": {},
   "outputs": [],
   "source": []
  }
 ],
 "metadata": {
  "kernelspec": {
   "display_name": "Python 3",
   "language": "python",
   "name": "python3"
  },
  "language_info": {
   "codemirror_mode": {
    "name": "ipython",
    "version": 3
   },
   "file_extension": ".py",
   "mimetype": "text/x-python",
   "name": "python",
   "nbconvert_exporter": "python",
   "pygments_lexer": "ipython3",
   "version": "3.8.2"
  }
 },
 "nbformat": 4,
 "nbformat_minor": 2
}
