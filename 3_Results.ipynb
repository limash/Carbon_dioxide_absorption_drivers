{
 "cells": [
  {
   "cell_type": "markdown",
   "metadata": {},
   "source": [
    "### Results and discussion"
   ]
  },
  {
   "cell_type": "markdown",
   "metadata": {},
   "source": [
    "Here we answer separately the tasks proposed in the Introduction:\n",
    "Thus, we want to clarify the role of alkalinity generation in the coastal area on $\\text{CO}_2$ atmosphere-seawater exchange considering the Wadden Sea - the southern North Sea area answering the questions:\n",
    "1. How allochthonous TA and DIC coming from the Wadden Sea to the southern North Sea influence $\\text{CO}_2$ atmosphere-seawater exchange dynamics.\n",
    "2. Whether the seasonality of advective TA and DIC input can alter $\\text{CO}_2$ atmosphere-seawater exchange dynamics (pure seasonality without considering any year TA and DIC input). We also investigate the same question considering TA input only.\n",
    "3. Establish the importance of allochthonous alkalinity (what $\\text{CO}_2$ atmosphere-seawater exchange in the southern North Sea would be without allochthonous TA input from the Wadden Sea, but with allochthonous DIC input).\n",
    "4. Check the contribution of temperature to $\\text{pCO}_2$ vs. biological contribution to $\\text{pCO}_2$ with and without additional TA and DIC allochthonous fluxes."
   ]
  },
  {
   "cell_type": "markdown",
   "metadata": {},
   "source": [
    "#### The test case 1: Allochthonous TA and DIC infuence"
   ]
  },
  {
   "cell_type": "markdown",
   "metadata": {},
   "source": [
    "In the first test case, we estimate how allochthonous alkalinity and DIC can change the $\\text{CO}_2$ atmosphere - seawater transfer.\n",
    "To do it, we compare **S-baseline** and **S-TA_DIC_inflow** scenarios.\n",
    "The first one represents no advective TA and DIC influence; the second one considers the inflow of allochthonous TA and DIC from box B to box A.\n",
    "The mean year concentrations of TA and DIC in boxes A and B are different, so the corresponding fluxes do not sum up to zero at the end of the year.\n",
    "We consider DIC inflow along with TA since some alkalinity generating processes (like anaerobic OM degradation) generate a considerable amount of DIC.\n",
    "Thus, we shall take it into account since our final idea is to estimate how the coastal area's biogeochemical processes can change the $\\text{CO}_2$ atmosphere - seawater transfer."
   ]
  },
  {
   "cell_type": "markdown",
   "metadata": {},
   "source": [
    "![Image](misc/R_TA_DIC_inflow_1.png \"Figure 1\")"
   ]
  },
  {
   "cell_type": "markdown",
   "metadata": {},
   "source": [
    "**Figure R1.** Blue line - **S-baseline** scenario (average DIC = 2113 $\\text{mmol m}^{-3}$); orange line - **S-TA_DIC_inflow** scenario (average DIC = 2150 $\\text{mmol m}^{-3}$)."
   ]
  },
  {
   "cell_type": "markdown",
   "metadata": {},
   "source": [
    "In Fig. R1, we see DIC's year profile for the cases without (a blue line) and with (an orange line) allochthonous TA and DIC input.\n",
    "The minimum value of DIC for the blue line is 2065 $\\text{mmol m}^{-3}$, the maximum is 2140 $\\text{mmol m}^{-3}$.\n",
    "Therefore, the annual difference is 75 $\\text{mmol m}^{-3}$.\n",
    "The bloom starts in the middle of April and continues until the beginning of July approximately.\n",
    "DIC's annual variance corresponding to the scenario with allochthonous TA and DIC inflow is more prominent than without inflow.\n",
    "The minimum DIC value for the orange line is 1968 $\\text{mmol m}^{-3}$, the maximum hits 2223 $\\text{mmol m}^{-3}$.\n",
    "Thus, the difference reaches 255 $\\text{mmol m}^{-3}$, which is significantly higher than for the blue line.\n",
    "The bloom is in the same period as for the blue line.\n",
    "The values and range of DIC concentrations of the orange line are more reasonable for the Wadden Sea than for the North Sea (see, for example, [Schwichtenberg (2013)] p. 97 Table 4.1) (remind that the modeling domain represents the shallow area in the southern North Sea adjoining the Wadden Sea).\n",
    "\n",
    "[Schwichtenberg (2013)]: https://pure.mpg.de/rest/items/item_2245755/component/file_2245756/content"
   ]
  },
  {
   "cell_type": "markdown",
   "metadata": {},
   "source": [
    "![Image](misc/R_TA_DIC_inflow_2.png \"Figure 2\")"
   ]
  },
  {
   "cell_type": "markdown",
   "metadata": {},
   "source": [
    "**Figure R2.** Blue line - **S-baseline** scenario (average TA = 2292 $\\text{mmol m}^{-3}$); orange line - **S-TA_DIC_inflow** scenario (average TA = 2312 $\\text{mmol m}^{-3}$)."
   ]
  },
  {
   "cell_type": "markdown",
   "metadata": {},
   "source": [
    "Figure R2 shows alkalinity distribution for the two cases, with advective TA and DIC inflow (an orange line) and without (a blue line).\n",
    "The blue line is flatter, the minimum year TA value equals 2268 $\\text{mmol m}^{-3}$, the maximum year TA value equals 2307 $\\text{mmol m}^{-3}$, so the annual difference is 39 $\\text{mmol m}^{-3}$.\n",
    "The orange line is steeper, the minimum is 2257 $\\text{mmol m}^{-3}$, the maximum reaches 2366 $\\text{mmol m}^{-3}$, so the annual range is 109 $\\text{mmol m}^{-3}$.\n",
    "The orange line's annual profile, which corresponds to the case with advective TA and DIC influence, matches the measured profiles of alkalinity in the southern North Sea regions close to the Wadden Sea ([Voynova et al., 2019]).\n",
    "\n",
    "[Voynova et al., 2019]: https://doi.org/10.1002/lno.11103"
   ]
  },
  {
   "cell_type": "markdown",
   "metadata": {},
   "source": [
    "![Image](misc/R_TA_DIC_inflow_3.png \"Figure 3\")"
   ]
  },
  {
   "cell_type": "markdown",
   "metadata": {},
   "source": [
    "**Figure R3.** Blue line - **S-baseline** scenario (average $\\delta$pCO$_2$ = 1 $\\text{ppm}$); orange line - **S-TA_DIC_inflow** scenario (average $\\delta$pCO$_2$ = 84 $\\text{ppm}$)."
   ]
  },
  {
   "cell_type": "markdown",
   "metadata": {},
   "source": [
    "In Fig. R3 we provide pCO$_2$ difference ($\\delta$pCO$_2$) between seawater and the atmosphere.\n",
    "The values correspond with values measured in the Wadden Sea ([Santos et al., 2015]).\n",
    "For the blue line, the maximum value is 135 $\\text{ppm}$, the minimum is -110 $\\text{ppm}$.\n",
    "For the orange line, the maximum value is 342 $\\text{ppm}$, the minimum is -215 $\\text{ppm}$.\n",
    "\n",
    "[Santos et al., 2015]: https://doi.org/10.1016/j.marchem.2015.02.005"
   ]
  },
  {
   "cell_type": "markdown",
   "metadata": {},
   "source": [
    "![Image](misc/R_TA_DIC_inflow_4.png \"Figure 4\")"
   ]
  },
  {
   "cell_type": "markdown",
   "metadata": {},
   "source": [
    "**Figure R4.** Blue line - **S-baseline** scenario (year CO$_2$ flux = 6 $\\text{mmol m}^{-2} \\text{year}^{-1}$); orange line - **S-TA_DIC_inflow** scenario (year CO$_2$ flux = -1813 $\\text{mmol m}^{-2} \\text{year}^{-1}$)."
   ]
  },
  {
   "cell_type": "markdown",
   "metadata": {},
   "source": [
    "The values of daily air-sea CO$_2$ fluxes that depicted in Fig. R4 are also in agreement with the reported values measured in the Wadden Sea ([Santos et al., 2015]).\n",
    "The maximum of the flux without additional TA and DIC input equals 7 $\\text{mmol m}^{-2} \\text{day}^{-1}$, the minimum equals -8 $\\text{mmol m}^{-2} \\text{day}^{-1}$.\n",
    "The maximum of the flux with additional TA and DIC input equals 13 $\\text{mmol m}^{-2} \\text{day}^{-1}$, the minimum equals -20 $\\text{mmol m}^{-2} \\text{day}^{-1}$.\n",
    "The negative fluxes mean that carbon dioxide effluxes from seawater to the atmosphere.\n",
    "\n",
    "[Santos et al., 2015]: https://doi.org/10.1016/j.marchem.2015.02.005"
   ]
  },
  {
   "cell_type": "markdown",
   "metadata": {},
   "source": [
    "To summarize, there are tables (R1 and R2) for the parameters presented above for the two cases, with and without TA and DIC input.\n",
    "Additional TA and DIC input increases year average CO$_2$ efflux from seawater to the atmosphere.\n",
    "While in general, the North Sea is a sink for the atmospheric carbon dioxide ([Thomas et al., 2004]), the coastal area (the Wadden Sea) is a strong source of carbon dioxide ([Santos et al., 2015]).\n",
    "The resulting calculated CO$_2$ efflux from seawater to the atmosphere (1813 $\\text{mmol m}^{-2} \\text{year}^{-1}$ or 5 $\\text{mmol m}^{-2} \\text{day}^{-1}$) is a bit lower than the lower bound of the reported values of CO$_2$ outgassing in the Wadden Sea of 7 to 20 $\\text{mmol m}^{-2} \\text{day}^{-1}$ ([Santos et al., 2015]).\n",
    "Therefore, we would consider the established value as a reasonable estimation of carbon dioxide outgassing in the area adjacent to the Wadden Sea.\n",
    "\n",
    "[Thomas et al., 2004]: https://doi.org/10.1126/science.1095491\n",
    "[Santos et al., 2015]: https://doi.org/10.1016/j.marchem.2015.02.005"
   ]
  },
  {
   "cell_type": "markdown",
   "metadata": {},
   "source": [
    "**Table R1.** The values of some parameters without DIC and TA inflow influence."
   ]
  },
  {
   "cell_type": "markdown",
   "metadata": {},
   "source": [
    "||DIC, $\\text{mmol m}^{-3}$|TA, $\\text{mmol m}^{-3}$|$\\delta$pCO$_2$, $\\text{ppm}$|CO$_2$ flux, $\\text{mmol m}^{-2} \\text{day}^{-1}$|\n",
    "|-|-|-|-|-|\n",
    "|mean|2113|2292|1|6 (year flux, year$^{-1}$)|\n",
    "|min|2065|2268|-110|-8|\n",
    "|max|2140|2307|135|7|\n",
    "|$\\Delta$|75|39|245|15|"
   ]
  },
  {
   "cell_type": "markdown",
   "metadata": {},
   "source": [
    "**Table R2.** The values of some parameters with DIC and TA inflow influence."
   ]
  },
  {
   "cell_type": "markdown",
   "metadata": {},
   "source": [
    "||DIC, $\\text{mmol m}^{-3}$|TA, $\\text{mmol m}^{-3}$|$\\delta$pCO$_2$, $\\text{ppm}$|CO$_2$ flux, $\\text{mmol m}^{-2} \\text{day}^{-1}$|\n",
    "|-|-|-|-|-|\n",
    "|mean|2150|2312|84|-1813 (year flux, year$^{-1}$)|\n",
    "|min|1968|2257|-215|-20|\n",
    "|max|2223|2366|342|13|\n",
    "|$\\Delta$|255|109|557|33|"
   ]
  },
  {
   "cell_type": "markdown",
   "metadata": {},
   "source": [
    "#### The test case 2: Allochthonous TA and DIC seasonality influence"
   ]
  },
  {
   "cell_type": "markdown",
   "metadata": {},
   "source": [
    "To extract the effect of pure allochthonous TA and DIC seasonality influence, we compare **S-baseline**, **S-TA_DIC_zero_average**, (and later **S-TA_zero_average**) scenarios.\n",
    "The idea of this test case is to identify whether TA and DIC year non-zero inputs are necessary to change the CO$_2$ year overall seawater-atmosphere exchange and whether allochthonous year TA zero input can facilitate net CO$_2$ uptake at the annual scale.\n",
    "**S-TA_DIC_zero_average** scenario provides no additional annual input of DIC and TA, but significantly changes these elements' seasonality.\n",
    "The blue lines depicted further are similar to the blue lines depicted in the R1 - R4 figures (**S-baseline** scenario).\n",
    "So we focus on the orange lines, which show the adjusted parameters due to additional DIC and TA input."
   ]
  },
  {
   "cell_type": "markdown",
   "metadata": {},
   "source": [
    "![Image](misc/R_TA_DIC_zero_inflow_1.png \"Figure 1\")"
   ]
  },
  {
   "cell_type": "markdown",
   "metadata": {},
   "source": [
    "**Figure R5.** Blue line - **S-baseline** scenario (average DIC = 2113 $\\text{mmol m}^{-3}$); orange line - **S-TA_DIC_zero_average** scenario (average DIC = 2110 $\\text{mmol m}^{-3}$)."
   ]
  },
  {
   "cell_type": "markdown",
   "metadata": {},
   "source": [
    "The orange line in Fig. R5 shows a DIC year profile with advective DIC inflow, which does not change the year mean DIC value.\n",
    "The minumal DIC value is 1918 $\\text{mmol m}^{-3}$, the maximum is 2175 $\\text{mmol m}^{-3}$, the annual range is 257 $\\text{mmol m}^{-3}$.\n",
    "The range is approximately the same as it was in the first test case."
   ]
  },
  {
   "cell_type": "markdown",
   "metadata": {},
   "source": [
    "![Image](misc/R_TA_DIC_zero_inflow_2.png \"Figure 2\")"
   ]
  },
  {
   "cell_type": "markdown",
   "metadata": {},
   "source": [
    "**Figure R6.** Blue line - **S-baseline** scenario (average TA = 2292 $\\text{mmol m}^{-3}$); orange line - **S-TA_DIC_zero_average** scenario (average DIC = 2292 $\\text{mmol m}^{-3}$)."
   ]
  },
  {
   "cell_type": "markdown",
   "metadata": {},
   "source": [
    "There is a year TA profile with advective TA inflow, which sums up to zero annually in Fig. R6 (orange line).\n",
    "The profile has values during a year from 2234 $\\text{mmol m}^{-3}$ to 2343 $\\text{mmol m}^{-3}$, the range is the same as for the previous test case, 109 $\\text{mmol m}^{-3}$."
   ]
  },
  {
   "cell_type": "markdown",
   "metadata": {},
   "source": [
    "![Image](misc/R_TA_DIC_zero_inflow_3.png \"Figure 3\")"
   ]
  },
  {
   "cell_type": "markdown",
   "metadata": {},
   "source": [
    "**Figure R7.** Blue line - **S-baseline** scenario (average $\\delta$pCO$_2$ = 1 $\\text{ppm}$); orange line - **S-TA_DIC_zero_average** scenario (average $\\delta$pCO$_2$ = 21 $\\text{ppm}$)."
   ]
  },
  {
   "cell_type": "markdown",
   "metadata": {},
   "source": [
    "Figure R7 represents $\\delta$pCO$_2$ - the difference between seawater and the atmosphere CO$_2$ partial pressures.\n",
    "The orange line has a minimum of -238 ppm, a maximum of 246 ppm, so the annual range is 484 ppm.\n",
    "So the annual range of CO $ _2$ partial pressure differences compared to the test case 1 is smaller (it was 557 ppm)."
   ]
  },
  {
   "cell_type": "markdown",
   "metadata": {},
   "source": [
    "![Image](misc/R_TA_DIC_zero_inflow_4.png \"Figure 4\")"
   ]
  },
  {
   "cell_type": "markdown",
   "metadata": {},
   "source": [
    "**Figure R8.** Blue line - **S-baseline** scenario (year CO$_2$ flux = 6 $\\text{mmol m}^{-2} \\text{year}^{-1}$); orange line - **S-TA_DIC_zero_average** scenario (year CO$_2$ flux = -431 $\\text{mmol m}^{-2} \\text{year}^{-1}$)."
   ]
  },
  {
   "cell_type": "markdown",
   "metadata": {},
   "source": [
    "The margin values of the seawater-atmosphere CO$_2$ flux (Fig. R8, orange line) are different comparing to the test case 1.\n",
    "The minimum value is -14 $\\text{mmol m}^{-2} \\text{day}^{-1}$, the maximum is 14 $\\text{mmol m}^{-2} \\text{day}^{-1}$.\n",
    "The difference is 28 $\\text{mmol m}^{-2} \\text{day}^{-1}$, which is smaller then for the test case 1.\n",
    "Still, the averall year flux is -431 $\\text{mmol m}^{-2} \\text{year}^{-1}$, so seawater in average excreets carbon dioxide although the averal input of allochthonous DIC (and TA) is zero.\n",
    "Thus, even zero inflow of TA and DIC in the annual scale can cause changes of the resulting year the seawater-atmosphere CO$_2$ flux.\n",
    "To understand if year zero TA input only (without and DIC input) can increase the resulting seawater-atmosphere CO$_2$ exchange check the next figure."
   ]
  },
  {
   "cell_type": "markdown",
   "metadata": {},
   "source": [
    "![Image](misc/R_TA_zero_inflow_1.png \"Figure 4\")"
   ]
  },
  {
   "cell_type": "markdown",
   "metadata": {},
   "source": [
    "**Figure R9.** Blue line - **S-baseline** scenario (year CO$_2$ flux = 6 $\\text{mmol m}^{-2} \\text{year}^{-1}$); orange line - **S-TA_zero_average** scenario (year CO$_2$ flux = 9 $\\text{mmol m}^{-2} \\text{year}^{-1}$)."
   ]
  },
  {
   "cell_type": "markdown",
   "metadata": {},
   "source": [
    "In Fig. R9, the orange line represents the case with the allochthonous TA input summing up to zero at the end of a year.\n",
    "There is no any allochthonous DIC input in this scenario (**S-TA_zero_average**).\n",
    "Year flux of carbon dioxide from the atmosphere to seawater is slightly bigger comparing to the scenarios with no allochthonous input of TA at all (9 $\\text{mmol m}^{-2} \\text{year}^{-1}$ and 6 $\\text{mmol m}^{-2} \\text{year}^{-1}$ correspondingly).\n",
    "Thus, in this case, the resulting year carbon dioxide flux with TA inflow is approximately the same as without any TA inflow.\n",
    "Still, it causes a slight change, with another distribution of TA inflow, the effect can be different, although in our case, it is almost zero."
   ]
  },
  {
   "cell_type": "markdown",
   "metadata": {},
   "source": [
    "**Table R3.** The values of some parameters with the influence of DIC and TA inflows, which sum up to zero at the end of a year."
   ]
  },
  {
   "cell_type": "markdown",
   "metadata": {},
   "source": [
    "||DIC, $\\text{mmol m}^{-3}$|TA, $\\text{mmol m}^{-3}$|$\\delta$pCO$_2$, $\\text{ppm}$|CO$_2$ flux, $\\text{mmol m}^{-2} \\text{day}^{-1}$|\n",
    "|-|-|-|-|-|\n",
    "|mean|2110|2292|21|-431 (year flux, year$^{-1}$)|\n",
    "|min|1918|2234|-238|-14|\n",
    "|max|2175|2243|246|14|\n",
    "|$\\Delta$|257|109|484|28|"
   ]
  },
  {
   "cell_type": "markdown",
   "metadata": {},
   "source": [
    "#### The test case 3: Importance of allochthonous alkalinity"
   ]
  },
  {
   "cell_type": "markdown",
   "metadata": {},
   "source": [
    "In the first test case, we established that TA and DIC's advective input increases the flux of $\\text{CO}_2$ from seawater to the atmosphere.\n",
    "Without the corresponding TA inflow (with the DIC inflow only), the CO$_2$ outgassing to the atmosphere would be even bigger.\n",
    "To study the significance of the allochthonous TA input, we consider the test case with only allochthonous DIC input.\n",
    "Thus, we compare **S-baseline**, **S-DIC**, and **S-TA_DIC_inflow** scenarios.\n",
    "In this test case, we study how the generating TA coastal processes decrease carbon dioxide's outgassing from seawater to the atmosphere."
   ]
  },
  {
   "cell_type": "markdown",
   "metadata": {},
   "source": [
    "![Image](misc/R_DIC_inflow_1.png \"Figure 1\")\n",
    "![Image](misc/R_DIC_inflow_2.png \"Figure 2\")"
   ]
  },
  {
   "cell_type": "markdown",
   "metadata": {},
   "source": [
    "**Figure R10.** Blue line - **S-baseline** scenario (average DIC = 2113 $\\text{mmol m}^{-3}$, average TA = 2292 $\\text{mmol m}^{-3}$); orange line - **S-DIC** scenario (average DIC = 2146 $\\text{mmol m}^{-3}$, average TA = 2292 $\\text{mmol m}^{-3}$)."
   ]
  },
  {
   "cell_type": "markdown",
   "metadata": {},
   "source": [
    "In Fig. R10, one can see DIC and TA's profiles for the **S-baseline** scenario (blue line) and the **S-DIC** scenario (orange line).\n",
    "There is no additional TA input in the **S-DIC** scenario, so the blue and the orange TA curves overlay.\n",
    "The DIC curves are similar to the curves from Fig. 1.; the DIC inflow in **S-TA_DIC_inflow** and **S-DIC** scenarios is the same."
   ]
  },
  {
   "cell_type": "markdown",
   "metadata": {},
   "source": [
    "![Image](misc/R_DIC_inflow_3.png \"Figure 3\")"
   ]
  },
  {
   "cell_type": "markdown",
   "metadata": {},
   "source": [
    "**Figure R11.** Blue line - **S-baseline** scenario (average $\\delta$pCO$_2$ = 1 $\\text{ppm}$); orange line - **S-DIC** scenario (average $\\delta$pCO$_2$ = 150 $\\text{ppm}$)."
   ]
  },
  {
   "cell_type": "markdown",
   "metadata": {},
   "source": [
    "The orange line in Fig. R11 representing pCO$_2$ difference between seawater and the atmosphere has the minimum value of -223 ppm, the maximum value of 545 ppm.\n",
    "Thus, the year range is 768 ppm, which is significantly higher than for the **S-TA_DIC_inflow** scenario (it was 557 ppm).\n",
    "The partial pressure of carbon dioxide in seawater is much higher than in the atmosphere if there is no supplementary inflow of alkalinity, decreasing it."
   ]
  },
  {
   "cell_type": "markdown",
   "metadata": {},
   "source": [
    "![Image](misc/R_DIC_inflow_4.png \"Figure 4\")"
   ]
  },
  {
   "cell_type": "markdown",
   "metadata": {},
   "source": [
    "**Figure R12.** Blue line - **S-baseline** scenario (year CO$_2$ flux = 6 $\\text{mmol m}^{-2} \\text{year}^{-1}$); orange line - **S-DIC** scenario (year CO$_2$ flux = -3263 $\\text{mmol m}^{-2} \\text{year}^{-1}$)."
   ]
  },
  {
   "cell_type": "markdown",
   "metadata": {},
   "source": [
    "The maximum value of seawater-atmosphere CO$_2$ flux is 13 $\\text{mmol m}^{-2} \\text{day}^{-1}$, seawater absorbs carbon dioxide during bloom; the minimum is -31 $\\text{mmol m}^{-2} \\text{day}^{-1}$, the rest of the year seawater is the source of CO$_2$ to the atmosphere (Fig. R12, orange line).\n",
    "The difference between the maximum and the minimum is 43 $\\text{mmol m}^{-2} \\text{day}^{-1}$, which is also like pCO$_2$ difference is higher comparing with **S-TA_DIC_inflow** scenario (33 $\\text{mmol m}^{-2} \\text{day}^{-1}$).\n",
    "Without alkalinity inflow, the buffer capacity of seawater is lower.\n",
    "There is strong outgassing of carbon dioxide during autumn and winter months resulting in year CO$_2$ flux of 3263 $\\text{mmol m}^{-2} \\text{year}^{-1}$ from seawater to the atmosphere, it is almost twice bigger than for the **S-TA_DIC_inflow** scenario, which was of 1813 $\\text{mmol m}^{-2} \\text{year}^{-1}$.\n",
    "This test case can represent the situation when, for example, allochthonous DIC is due to aerobic respiration, and all biogeochemical processes generating TA are compensated by processes consuming TA."
   ]
  },
  {
   "cell_type": "markdown",
   "metadata": {},
   "source": [
    "**Table R4.** The values of some parameters' concentrations in the modeling box with influence of DIC inflow only."
   ]
  },
  {
   "cell_type": "markdown",
   "metadata": {},
   "source": [
    "||DIC, $\\text{mmol m}^{-3}$|TA, $\\text{mmol m}^{-3}$|$\\delta$pCO$_2$, $\\text{ppm}$|CO$_2$ flux, $\\text{mmol m}^{-2} \\text{day}^{-1}$|\n",
    "|-|-|-|-|-|\n",
    "|mean|2146|2292|150|-3263 (year flux, year$^{-1}$)|\n",
    "|min|1968|2268|-223|-31|\n",
    "|max|2213|2307|545|13|\n",
    "|$\\Delta$|245|39|768|43|"
   ]
  },
  {
   "cell_type": "markdown",
   "metadata": {},
   "source": [
    "#### The test case 4: Temperature and biological control"
   ]
  },
  {
   "cell_type": "markdown",
   "metadata": {},
   "source": [
    "Here we study the contributions of temperature and biological $\\text{CO}_2$ consumption to $\\text{pCO}_2$ values (as [Thomas et al. (2005)]).\n",
    "We also add an influence of advective inflows of DIC and TA into consideration.\n",
    "In this test case we calculate $\\Delta\\delta\\text{pCO}_{2-bio}$ (the range between maximum and minimum difference of pCO$_2$, $\\delta\\text{pCO}_2$, in seawater and in the atmosphere with the permanent temperature during the year, so the temperature effect is filtrated, **S-noTEMP_noinflow** scenario) and $\\Delta\\delta\\text{pCO}_{2-temp}$ (similar but with no biological activities, **S-noBIO_noinflow** scenario).\n",
    "There are also scenarios (**S-noTEMP_inflow**, **S-noBIO_inflow**) where we add the fluxes of allochthonous DIC and TA from Box B to see how it changes the corresponding values of $\\delta\\text{pCO}_2$.\n",
    "\n",
    "[Thomas et al. (2005)]: https://doi.org/10.5194/bg-2-323-2005"
   ]
  },
  {
   "cell_type": "markdown",
   "metadata": {},
   "source": [
    "![Image](misc/R_mean_temp_noinflow.png \"Figure 3\")"
   ]
  },
  {
   "cell_type": "markdown",
   "metadata": {},
   "source": [
    "**Figure R13.** Blue line - **S-baseline** scenario; orange line - **S-noTEMP_noinflow** scenario."
   ]
  },
  {
   "cell_type": "markdown",
   "metadata": {},
   "source": [
    "In Fig. R13 one can see the seasonal distributions of pCO$_2$ for the **S-baseline** (blue line) and **S-noTEMP_noinflow** (orange line) scenarios.\n",
    "The orange line minimum value of $\\delta$pCO$_2$ is -125 ppm, the maximum is 52 ppm, so $\\Delta\\delta$pCO$_2$ = 177 ppm.\n",
    "This range corresponds to the situation when biology controls the partial pressures and the flux of carbon dioxide between seawater and the atmosphere."
   ]
  },
  {
   "cell_type": "markdown",
   "metadata": {},
   "source": [
    "![Image](misc/R_mean_temp_inflow.png \"Figure 3\")"
   ]
  },
  {
   "cell_type": "markdown",
   "metadata": {},
   "source": [
    "**Figure R14.** Blue line - **S-baseline** scenario; orange line - **S-noTEMP_inflow** scenario."
   ]
  },
  {
   "cell_type": "markdown",
   "metadata": {},
   "source": [
    "If we enable the inflow of TA and DIC, it dominates over biology in controlling the exchange of carbon dioxide between seawater and the atmosphere.\n",
    "The minimum value of pCO$_2$ difference between seawater and the atmosphere (the orange line) is -210 ppm, the maximum is 272 ppm, the range between the minimum and the maximum $\\Delta\\delta$pCO$_2$ is 482 ppm."
   ]
  },
  {
   "cell_type": "markdown",
   "metadata": {},
   "source": [
    "![Image](misc/R_no_bio_noinflow.png \"Figure 3\")"
   ]
  },
  {
   "cell_type": "markdown",
   "metadata": {},
   "source": [
    "**Figure R15.** Blue line - **S-baseline** scenario; orange line - **S-noBIO_noinflow** scenario."
   ]
  },
  {
   "cell_type": "markdown",
   "metadata": {},
   "source": [
    "In Fig. R15, the orange line represents the scenario with disabled biology, and without inflow of allochthonous TA and DIC.\n",
    "It reveals how temperature controls the partial pressure of carbon dioxide in seawater.\n",
    "The minimum equals -92, the maximum 93, so the range ($\\Delta\\delta$pCO$_2$) is 185.\n",
    "It is slightly more compared with the disabled temperature scenario.\n",
    "Thus, the temperature control provides a bit higher fluctuations of $\\delta$pCO$_2$ during a year.\n",
    "Although during bloom, the biology dominates temperature effect."
   ]
  },
  {
   "cell_type": "markdown",
   "metadata": {},
   "source": [
    "![Image](misc/R_no_bio_inflow.png \"Figure 3\")"
   ]
  },
  {
   "cell_type": "markdown",
   "metadata": {},
   "source": [
    "**Figure R16.** Blue line - **S-baseline** scenario; orange line - **S-noBIO_inflow** scenario."
   ]
  },
  {
   "cell_type": "markdown",
   "metadata": {},
   "source": [
    "**S-noBIO_inflow** scenario is in Fig. R16 (orange line).\n",
    "The minimum value of $\\delta$pCO$_2$ is -203 ppm, the maximum is 339 ppm, the $\\Delta\\delta$pCO$_2$ is 542 ppm.\n",
    "It is only slightly lower than the **S-TA_DIC_inflow** scenario (it was 557 ppm)."
   ]
  },
  {
   "cell_type": "markdown",
   "metadata": {},
   "source": [
    "#### Net alkalinity gain"
   ]
  },
  {
   "cell_type": "markdown",
   "metadata": {},
   "source": [
    "Net alkalinity gain is a TA growth at the complete annual circle due to denitrification and sulfate reduction ([Thomas et al. (2009)]).\n",
    "In test case 3, we showed that TA accompanying DIC inflow is essential on a local scale and can almost half the outgassing of carbon dioxide to the atmosphere in the coastal area.\n",
    "The part of this allochthonous alkalinity is due to denitrification and sulfate reduction, so it can be considered net alkalinity, but this part can be relatively small (for details see [Yakubov]).\n",
    "Thus, even with a minor net alkalinity gain part, we showed the importance of any source TA in the coastal area.\n",
    "Still, whether $\\text{CO}_2$ preserved locally due to coastal alkalinity generation would keep in the ocean depends on a particular TA compound.\n",
    "For example, if TA increase is due to autotrophs $\\text{NO}_3^-$ consumption, TA will not decrease back if generated organics is preserved (because of local burying, continental shelf pump, see [Tsunogai et al., (1999)]).\n",
    "Otherwise, if this OM degrades after a series of consequent reactions, $\\text{NO}_3^-$ will appear again and, therefore, decrease TA, although it can happen far away from the original point where TA was generated.\n",
    "TA decrease will cause $\\text{CO}_2$ outgassing.\n",
    "It is unclear how much $\\text{CO}_2$ will keep in the ocean globally due to coastal TA generation.\n",
    "\n",
    "[Yakubov]: https://github.com/limash/Alkalinity_in_the_Wadden_Sea\n",
    "[Tsunogai et al., (1999)]: https://doi.org/10.3402/tellusb.v51i3.16468\n",
    "[Thomas et al. (2009)]: https://doi.org/10.5194/bg-6-267-2009"
   ]
  },
  {
   "cell_type": "markdown",
   "metadata": {},
   "source": [
    "Thus, as we understand it, the net alkalinity gain notion was introduced to help to quantify the amount of $\\text{CO}_2$ consumed by the ocean globally (or at the global coast, see [Thomas et al. (2009)]).\n",
    "The idea of net alkalinity gain is based on that denitrification generates quasi-inert elemental nitrogen escaping to the atmosphere, and sulfate reduction terminal product is H$_2$S, which can also evade to the atmosphere or bury as pyrite.\n",
    "These reactions are considered as irreversible, so TA generated due to these reactions is also irreversible.\n",
    "Thus, denitrification and sulfate reduction should increase $\\text{CO}_2$ uptake at the global scale.\n",
    "Further, we would try to consider net alkalinity gain at the global scale in detail.\n",
    "\n",
    "[Thomas et al. (2009)]: https://doi.org/10.5194/bg-6-267-2009"
   ]
  },
  {
   "cell_type": "markdown",
   "metadata": {},
   "source": [
    "According to the textbook about seawater carbon chemistry by [Zeebe and Wolf-Gladrow (2001)], \"the imbalance of the charge of the conservative ions is responsible for alkalinity.\"\n",
    "Conservative ions are ions of strong acids and bases, which concentrations are unaffected by changes in pH, pressure, or temperature (the same textbook by [Zeebe and Wolf-Gladrow (2001)]).\n",
    "Therefore, net alkalinity gain should be caused by an increase in the imbalance of the conservative ions' charge.\n",
    "It means that non-conservative anions of carbon (weak) acid regularly replace (or supplement) conservative ions, which means steadily increasing alkalinity values.\n",
    "If we assume that opposite processes balance (decrease) alkalinity on the global scale (nitrogen assimilation, sulfates input with terrestrial fluxes, etc.), then conservative ions replace anions of carbon acid.\n",
    "It will nullify net alkalinity gain and cancel its effect on the seawater CO$_2$ uptake capacity globally.\n",
    "If opposite processes do not balance alkalinity, alkalinity should increase on a global scale.\n",
    "\n",
    "[Thomas et al. (2009)]: https://doi.org/10.5194/bg-6-267-2009\n",
    "[Zeebe and Wolf-Gladrow (2001)]: https://www.elsevier.com/books/co2-in-seawater-equilibrium-kinetics-isotopes/zeebe/978-0-444-50946-8"
   ]
  },
  {
   "cell_type": "markdown",
   "metadata": {},
   "source": [
    "To be more precise, consider a particular example.\n",
    "As previously mentioned, total alkalinity is equal to the charge difference between conservative cations and anions.\n",
    "According to [Drever (1982, p. 52)] conservative ions are ions such as $\\text{Na}^+$, $\\text{K}^+$, $\\text{Ca}^{2+}$, $\\text{Mg}^{2+}$, $\\text{Cl}^-$, $\\text{SO}_4^{2-}$, $\\text{NO}_3^-$, etc.\n",
    "Thus, following [Wolf-Gladrow et al. (2007)], the geochemical definition of alkalinity (or explicitly conservative form of total alkalinity) is\n",
    "\n",
    "[Drever (1982, p. 52)]: https://doi.org/10.4319/lo.1983.28.3.0600a\n",
    "[Wolf-Gladrow et al. (2007)]: https://doi.org/10.1016/j.marchem.2007.01.006"
   ]
  },
  {
   "cell_type": "markdown",
   "metadata": {},
   "source": [
    "$\\text{TA}_{\\text{ec}} = \\lbrack\\text{Na}^{+}\\rbrack + 2\\lbrack\\text{Mg}^{2 +}\\rbrack + 2\\lbrack\\text{Ca}^{2 +}\\rbrack + \\lbrack \\text{K}^{+}\\rbrack + 2\\lbrack\\text{Sr}^{2 +}\\rbrack + \\text{TNH}_{3} - \\lbrack\\text{Cl}^{-}\\rbrack - \\lbrack\\text{Br}^{-}\\rbrack - \\lbrack\\text{NO}_{3}^{-}\\rbrack - \\text{TPO}_{4} - 2\\text{TSO}_{4} - \\text{THF} - \\text{THNO}_{2}$\n",
    "\n",
    ", where\n",
    "$\\text{TNH}_{3} = \\lbrack\\text{NH}_{3}\\rbrack + \\lbrack\\text{NH}_{4}^{+}\\rbrack$,\n",
    "$\\text{TPO}_{4} = \\lbrack\\text{H}_{3}\\text{PO}_{4}\\rbrack + \\lbrack \\text{H}_{2}\\text{PO}_{4}^{-}\\rbrack + \\lbrack\\text{HPO}_{4}^{2 -}\\rbrack + \\lbrack\\text{PO}_{4}^{3 -}\\rbrack$,\n",
    "$\\text{TSO}_{4} = \\lbrack\\text{SO}_{4}^{2 -}\\rbrack + \\lbrack\\text{HSO}_{4}^{-}\\rbrack$,\n",
    "$\\text{THF} = \\lbrack \\text{F}^{-}\\rbrack + \\lbrack\\text{HF}\\rbrack$, and\n",
    "$\\text{THNO}_{2} = \\lbrack\\text{NO}_{2}^{-}\\rbrack + \\lbrack\\text{HNO}_{2}\\rbrack$."
   ]
  },
  {
   "cell_type": "markdown",
   "metadata": {},
   "source": [
    "To get net alkalinity it is necessary to have some uncompensated processes increasing $\\text{TA}_{\\text{ec}}$.\n",
    "For example, denitrification, which consumes $\\text{NO}_{3}^{-}$, with consequent $\\text{N}_2$ evasion might be a source of net alkalinity gain.\n",
    "With the constant $\\text{NO}_{3}^{-}$ consumption prevailing its input the system should try to save its stability by absorbing $\\text{CO}_2$ from the atmosphere.\n",
    "It is clear when considering both explicitly conservative $\\text{TA}_{\\text{ec}}$ and the classical alkalinity expression ([Dickson, 1981]) ($\\text{TA}$).\n",
    "\n",
    "[Dickson, 1981]: https://doi.org/10.1016/0198-0149(81)90121-7"
   ]
  },
  {
   "cell_type": "markdown",
   "metadata": {},
   "source": [
    "$\\text{TA} = \\left\\lbrack \\text{HCO}_{3}^{-} \\right\\rbrack + 2\\left\\lbrack \\text{CO}_{3}^{2 -} \\right\\rbrack + \\left\\lbrack \\text{B}\\left( \\text{OH} \\right)_{4}^{-} \\right\\rbrack + \\left\\lbrack \\text{OH}^{-} \\right\\rbrack + \\left\\lbrack \\text{HP}\\text{O}_{4}^{2-} \\right\\rbrack + 2\\left\\lbrack \\text{PO}_{4}^{3 -} \\right\\rbrack + \\left\\lbrack \\text{H}_{3}\\text{SiO}_{4}^{-} \\right\\rbrack + \\left\\lbrack \\text{NH}_{3} \\right\\rbrack + \\left\\lbrack \\text{HS}^{-} \\right\\rbrack - \\left\\lbrack \\text{H}^{+} \\right\\rbrack_{F} - \\left\\lbrack \\text{HSO}_{4}^{-} \\right\\rbrack - \\left\\lbrack \\text{HF} \\right\\rbrack - \\lbrack \\text{H}_{3}\\text{PO}_{4}\\rbrack$"
   ]
  },
  {
   "cell_type": "markdown",
   "metadata": {},
   "source": [
    "The values of $\\text{TA}_{\\text{ec}}$ and $\\text{TA}$ should be equal, and the seawater charge should be equal zero.\n",
    "Thus, increasing of TA due to nitrates consumption in $\\text{TA}_{\\text{ec}}$ expression should be accompanied with changes in $\\text{TA}$, for example, by $\\text{CO}_2$ absorption from the atmosphere."
   ]
  },
  {
   "cell_type": "markdown",
   "metadata": {},
   "source": [
    "Assuming steady $\\text{CO}_2$ absorption from the atmosphere caused by steady $\\text{NO}_{3}^{-}$ consumption, this process should not be compensated (no input of $\\text{NO}_{3}^{-}$) since it will cause the absorbed $\\text{CO}_2$ to efflux back to the atmosphere.\n",
    "Thus, if one assumes that carbon dioxide is absorbed due to net alkalinity gain, TA should increase on the global scale.\n",
    "Otherwise, all carbon dioxide absorbed locally should be excreted in other parts of the global ocean to keep $\\text{TA}_{\\text{ec}}$ and $\\text{TA}$ equality."
   ]
  },
  {
   "cell_type": "markdown",
   "metadata": {},
   "source": [
    "In general, if one associate seawater-atmosphere $\\text{CO}_2$ flux with net alkalinity, it is a local process only.\n",
    "The global TA increase should happen to make alkalinity cause a global absorption of carbon dioxide.\n",
    "In this regard, net alkalinity gain does not differ from the 'reversible' alkalinity gain except for the time scale.\n",
    "Thus, the 'reversible' process, for example, $\\text{NH}_{4}^{+}$ excretion, is reversed by relatively 'short-time' nitrification.\n",
    "The 'irreversible,' for example, denitrification, is reversed by nitrogen assimilation, a relatively 'long-time' scale process.\n",
    "If balanced, both of them do not cause any alkalinity gain and associated $\\text{CO}_2$ absorption.\n",
    "Thus, there is no idea to distinguish alkalinity generation due to 'irreversible' and 'reversible' processes since both of them are reversible, although they have different time scales of this reverse.\n",
    "Ultimately, high alkalinity increases the buffer capacity of seawater, and it helps to keep $\\text{CO}_2$ on a relatively short time ranges.\n",
    "Other mechanisms like continental shelf pump and organics burying have primal importance on a more extensive time ranges."
   ]
  },
  {
   "cell_type": "markdown",
   "metadata": {},
   "source": [
    "#### Conclusions"
   ]
  },
  {
   "cell_type": "markdown",
   "metadata": {},
   "source": [
    "The main results of the current work are following (see also Table R5):\n",
    "1. Allochthonous TA and DIC coming from the Wadden Sea to the southern North Sea increase $\\text{CO}_2$ uptake by the southern North Sea.\n",
    "In our setup, this uptake is about 1800 $\\text{mmol m}^{-2} \\text{year}^{-1}$ in the areas close to the Wadden Sea.\n",
    "2. Even zero overall year advective TA and DIC input (which only sum up to zero at the end of a year, but with seasonal variations) can alter $\\text{CO}_2$ atmosphere-seawater exchange dynamics.\n",
    "In our case, this input cause a $\\text{CO}_2$ seawater excretion of 431 $\\text{mmol m}^{-2} \\text{year}^{-1}$.\n",
    "The zero overall year advective TA also changes $\\text{CO}_2$ atmosphere-seawater exchange, in our case it is increases (by several $\\text{mmol m}^{-2} \\text{day}^{-1}$) seawater $\\text{CO}_2$ absorption slightly.\n",
    "3. The allochthonous TA flux accompanying DIC is crucial in $\\text{CO}_2$ atmosphere-seawater exchange regulations.\n",
    "Without TA flux $\\text{CO}_2$ excretion to the atmosphere would increase approximately twice.\n",
    "4. In the southern North Sea areas close to the Wadden Sea, the influence of the Wadden Sea prevails.\n",
    "Afterward, temperature is the second factor controlling $\\text{CO}_2$ seawater-atmosphere exchange for most of the year, except the spring bloom time, when biology dominates the temperature.\n",
    "The spring is the only season when this area is a sink for the atmospheric carbon dioxide.\n",
    "\n",
    "Overall, TA coastal generation is an important factor controlling the $\\text{CO}_2$ exchange between seawater and the atmosphere.\n",
    "It can provide dissolved inorganic carbon for a “continental shelf pump” in coastal areas.\n",
    "As long as there is no reported increasing global TA, it cannot cause a standalone net $\\text{CO}_2$ absorption by the ocean on the global scale."
   ]
  },
  {
   "cell_type": "markdown",
   "metadata": {},
   "source": [
    "**Table R5.** Overview - the values of some parameters for different scenarios."
   ]
  },
  {
   "cell_type": "markdown",
   "metadata": {},
   "source": [
    "| Scenario | mean DIC, $\\text{mmol m}^{-3}$ | mean TA, $\\text{mmol m}^{-3}$ | mean $\\delta$pCO$_2$, $\\text{ppm}$ | $\\Delta\\delta$pCO$_2$ | CO$_2$ flux,  $\\text{mmol m}^{-2} \\text{year}^{-1}$ |\n",
    "|----------|---------|----------|-------------|--------------|-|\n",
    "| **S-baseline** | 2113 | 2292 | 1 | 245 | 6 |\n",
    "| **S-TA_DIC_inflow** | 2150 | 2312 | 84 | 557 | -1813 |\n",
    "| **S-TA_DIC_zero_average** | 2110 | 2292 | 21 | 484 | -431 |\n",
    "| **S-DIC** | 2146 | 2292 | 150 | 768 | -3263 |\n",
    "| **S-noTEMP_noinflow** | 2112 | 2292 | 0 | 177 | 5 |\n",
    "| **S-noTEMP_inflow** | 2150 | 2312 | 82 | 482 | -1817 |\n",
    "| **S-noBIO_noinflow** | 2114 | 2292 | 1 | 185 |  4 |\n",
    "| **S-noBIO_inflow** | 2151 | 2312 | 85 | 542 | -1853 |"
   ]
  }
 ],
 "metadata": {
  "kernelspec": {
   "display_name": "Python 3",
   "language": "python",
   "name": "python3"
  },
  "language_info": {
   "codemirror_mode": {
    "name": "ipython",
    "version": 3
   },
   "file_extension": ".py",
   "mimetype": "text/x-python",
   "name": "python",
   "nbconvert_exporter": "python",
   "pygments_lexer": "ipython3",
   "version": "3.8.2"
  }
 },
 "nbformat": 4,
 "nbformat_minor": 2
}
