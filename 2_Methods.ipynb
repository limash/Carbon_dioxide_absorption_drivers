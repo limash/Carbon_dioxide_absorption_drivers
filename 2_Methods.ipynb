{
 "cells": [
  {
   "cell_type": "markdown",
   "metadata": {},
   "source": [
    "### Methods"
   ]
  },
  {
   "cell_type": "markdown",
   "metadata": {},
   "source": [
    "To answer the proposed questions we use a 1-d transport model (Yakubov 2019) and a biogeochemical model explained in (Yakubov \\#).\n",
    "Comparing to (Yakubov \\#) pCO~2~ calculation and the atmosphere -- seawater exchange of CO~2~ are added to the biogeochemical model."
   ]
  },
  {
   "cell_type": "markdown",
   "metadata": {},
   "source": [
    "The approximate width of the Wadden Sea is 20 km. For the modelling\n",
    "domain we take a 10 × 10 km square of the depth of 20 m (it is\n",
    "approximately a mean depth of the German Bight according to Becker\n",
    "(1992) and <https://www.ngdc.noaa.gov/mgg/global/>) representing the\n",
    "area on the border with the Wadden Sea (Box A). Box A (10 × 10 km × 20\n",
    "m) is connected to: 1) the box (10 × 10 km × 2.5 m) on the one side\n",
    "(representing the adhering Wadden Sea area) where additional fluxes of\n",
    "TA and DIC can come from (Box B); 2) and to the same size (10 × 10 km ×\n",
    "20 m) boxes from the 2 opposite sides with which it can exchange with\n",
    "nutrients, DIC and TA by horizontal diffusion (so it represents the\n",
    "surrounding southern North Sea, further we call it 'Box C' and use\n",
    "'relaxation' for the exchange process). The diffusion coefficient (150\n",
    "m^2^ sec^-1^) is an apparent diffusivity taken from Okubo (1971) which\n",
    "is approximately the average value measured for the North Sea area with\n",
    "the correction to the scale-dependent diffusivity from Okubo (1976). The\n",
    "corresponding horizontal scale (which is according to Okubo (1971) the\n",
    "distance where 95% of tracer remains within if the distribution of the\n",
    "tracer is radially symmetric and Gaussian) to this diffusion coefficient\n",
    "is approximately twice bigger than the side of the modelling domain. The\n",
    "concentrations in the adhering boxes (Box C) are constant."
   ]
  },
  {
   "cell_type": "markdown",
   "metadata": {},
   "source": [
    "Figure 1. \\< The scheme of the modelling domain."
   ]
  },
  {
   "cell_type": "markdown",
   "metadata": {},
   "source": [
    "At first, we calculate pCO~2~ values in the German Bight without\n",
    "considering influence of sedimentary TA generation in the Wadden Sea (no\n",
    "flux from the Box B) but taking into account the exchange by nutrients\n",
    "with surrounding southern North Sea area (Box C). We refer it to\n",
    "'Baseline' scenario (S~baseline~). Nutrients values in the box C are\n",
    "taken from the World Ocean Database; the values of DIC and TA in the Box\n",
    "C for other scenarios are from this scenario. This scenario represents\n",
    "the behaviour of the biogeochemical system of the German Bight without\n",
    "the Wadden Sea influence."
   ]
  },
  {
   "cell_type": "markdown",
   "metadata": {},
   "source": [
    "The second scenario (S~TA\\_DIC~) takes into account both TA and DIC\n",
    "fluxes from the Wadden Sea (flux from the Box B) and TA, DIC, and\n",
    "nutrients horizontal diffusive exchange with the southern North Sea (Box\n",
    "C). TA and DIC fluxes are calculated due to TA and DIC concentrations in\n",
    "the Wadden Sea from Yakubov (?) for the average velocity from the Wadden\n",
    "Sea to the North Sea of 3 cm s^-1^. Original TA and DIC from Yakubov (?)\n",
    "values are normalized: TA min value is from J. Beusekom data, DIC\n",
    "average value in the Wadden Sea is approximately 100 mM higher than in\n",
    "the North Sea (according to Brasse 1999); it is made since original TA\n",
    "and DIC values do not consider any exchange -- it was made to calculate\n",
    "the amount of TA and DIC the Wadden Sea can generate; this approach is\n",
    "rough but still a reasonable approximation to understand how it can\n",
    "influence on the CO~2~ exchange in the North Sea. TA concentrations from\n",
    "Yakubov (?) do not take net alkalinity gain into account. Thus, this\n",
    "scenario helps us to identify if additional alkalinity without\n",
    "considering 'irreversible' processes can influence on the CO~2~\n",
    "atmosphere-seawater exchange in the German Bight."
   ]
  },
  {
   "cell_type": "markdown",
   "metadata": {},
   "source": [
    "The third scenario (S~TA\\_DIC\\_Norm~) is similar to the second one with\n",
    "the difference that the concentration of TA and DIC from the Wadden Sea\n",
    "are normalized to the average North Sea values from the baseline\n",
    "scenario. From these averaged values fluxes to the North Sea are\n",
    "calculated. With the same average values there is no additional\n",
    "alkalinity per year comes from the Wadden Sea to the German Bight. This\n",
    "case helps to establish if TA and DIC seasonality signal from the Wadden\n",
    "Sea can change the CO~2~ atmosphere-seawater exchange in the German\n",
    "Bight without any additional input of TA and DIC."
   ]
  },
  {
   "cell_type": "markdown",
   "metadata": {},
   "source": [
    "The fourth scenario (S~DIC~) takes into account DIC flux from the Wadden\n",
    "Sea and DIC exchange with southern North Sea without considering the\n",
    "flux and exchange of TA. It represents the case if all OM in the Wadden\n",
    "Sea degrades due to aerobic processes with no alkalinity generation.\n",
    "Using this scenario we can evaluate the effect the Wadden Sea causes due\n",
    "to its specific properties (due to significant mixing the large part of\n",
    "OM degrades due to anaerobic processes within sediments, see Yakubov\n",
    "(?))."
   ]
  },
  {
   "cell_type": "markdown",
   "metadata": {},
   "source": [
    "Table 1. \\< The description of the scenarios."
   ]
  }
 ],
 "metadata": {
  "kernelspec": {
   "display_name": "Python 3",
   "language": "python",
   "name": "python3"
  },
  "language_info": {
   "codemirror_mode": {
    "name": "ipython",
    "version": 3
   },
   "file_extension": ".py",
   "mimetype": "text/x-python",
   "name": "python",
   "nbconvert_exporter": "python",
   "pygments_lexer": "ipython3",
   "version": "3.7.6"
  }
 },
 "nbformat": 4,
 "nbformat_minor": 2
}
