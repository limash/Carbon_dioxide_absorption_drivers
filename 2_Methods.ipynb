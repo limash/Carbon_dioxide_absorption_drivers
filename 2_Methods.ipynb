{
 "cells": [
  {
   "cell_type": "markdown",
   "metadata": {},
   "source": [
    "### Methods"
   ]
  },
  {
   "cell_type": "markdown",
   "metadata": {},
   "source": [
    "To answer the proposed questions we use a 1-d transport model ([Yakubov et al., 2019a]) and a biogeochemical model explained in [Yakubov (2019b)].\n",
    "Comparing to the biogeochemical model from [Yakubov (2019b)] $\\text{pCO}_2$ calculation and the atmosphere - seawater exchange of $\\text{CO}_2$ are added to the biogeochemical model.\n",
    "\n",
    "[Yakubov et al., 2019a]: https://doi.org/10.3390/w11081582\n",
    "[Yakubov (2019b)]: https://github.com/limash/Alkalinity_in_the_Wadden_Sea"
   ]
  },
  {
   "cell_type": "markdown",
   "metadata": {},
   "source": [
    "The approximate width of the Wadden Sea is 20 km.\n",
    "For the modelling domain we take a 10 km × 10 km square of the depth of 20 m (it is approximately a mean depth of the German Bight according to [Becker et al. (1992)] and <https://www.ngdc.noaa.gov/mgg/global/>) representing the area at the border with the Wadden Sea.\n",
    "We label it Box A.\n",
    "Box A (10 km × 10 km × 20 m) is connected to\n",
    "1. Box B - the box (10 km × 10 km × 2.5 m) representing the adhering Wadden Sea area. Additional fluxes of TA and DIC can come from this box.\n",
    "2. Box C - two same size (10 km × 10 km × 20 m) boxes from the 2 opposite sides of Box A with which Box A can exchange with nutrients, DIC and TA by horizontal diffusion. So it represents the surrounding southern North Sea.\n",
    "\n",
    "The modelling setup scheme is depicted in Fig. 1.\n",
    "\n",
    "[Becker et al. (1992)]: https://www.jstor.org/stable/24832635"
   ]
  },
  {
   "cell_type": "markdown",
   "metadata": {},
   "source": [
    "Additional fluxes of TA and DIC which can come from Box B to Box A are calculated according to the yearly estimations of TA and DIC coming from the Wadden Sea to the North Sea from [Yakubov (2019b)] applying the average velocity from the Wadden Sea to the North Sea of 3 $\\text{cm s}^{-1}$.\n",
    "The fluxes are different for different scenarios (see below), one can find the calculations in [s_2_generate_netcdf.ipynb](s_2_generate_netcdf.ipynb).\n",
    "\n",
    "[Yakubov (2019b)]: https://github.com/limash/Alkalinity_in_the_Wadden_Sea"
   ]
  },
  {
   "cell_type": "markdown",
   "metadata": {},
   "source": [
    "The horizontal diffusion coefficient used to calculate horizontal diffusion between Box A and Box C (150 m$^2$ sec$^{-1}$) is an apparent diffusivity taken from [Okubo (1971)] which is approximately the average value measured for the North Sea area with the correction to the scale-dependent diffusivity from [Okubo (1976)].\n",
    "The corresponding horizontal scale (which is according to [Okubo (1971)] the distance where 95% of tracer remains within if the distribution of the tracer is radially symmetric and Gaussian) to this diffusion coefficient is approximately twice bigger than the side of the modelling domain.\n",
    "The concentrations in the adhering to the modelling domain area (Box C) are constant.\n",
    "\n",
    "[Okubo (1971)]: https://doi.org/10.1016/0011-7471(71)90046-5\n",
    "[Okubo (1976)]: https://doi.org/10.1016/0011-7471(76)90897-4"
   ]
  },
  {
   "cell_type": "markdown",
   "metadata": {},
   "source": [
    "![Image](misc/mod_domain.png \"mod_domain\")"
   ]
  },
  {
   "cell_type": "markdown",
   "metadata": {},
   "source": [
    "**Figure 1.** The modelling setup scheme.\n",
    "There is actually no gap between the boxes, it is implemented for sake of clarity. "
   ]
  },
  {
   "cell_type": "markdown",
   "metadata": {},
   "source": [
    "At first, we calculate $\\text{pCO}_2$ values and atmosphere-seawater exchange of $\\text{CO}_2$ in Box A without allochthonous TA and DIC influxes from Box B, but taking into account the exchange by nutrients with Box C.\n",
    "We refer it to 'Baseline' scenario (**S-baseline**).\n",
    "Nutrients values in the Box C are taken from the World Ocean Database for the rectangle in German Bight which is adjacent to the North Frisian Wadden Sea.\n",
    "There is no exhange of DIC and TA with Box C in this scenario; the values of DIC and TA in the Box C for other scenarios are from this scenario.\n",
    "This scenario represents the behaviour of the biogeochemical system of the German Bight without the Wadden Sea influence."
   ]
  },
  {
   "cell_type": "markdown",
   "metadata": {},
   "source": [
    "The second scenario (**S-TA_DIC_influx**) takes into account both TA and DIC fluxes from the Box B and TA, DIC, and nutrients horizontal diffusive exchange with Box C.\n",
    "For this scenario original TA and DIC from [Yakubov (2019b)] to make it more representable are adapted to fit the literature data.\n",
    "TA data are from J. Beusekom private storage.\n",
    "DIC data are from [Brasse et al. (1999)].\n",
    "Then these values are used to calculate TA and DIC fluxes values from Box B to Box A.\n",
    "[Yakubov (2019b)] has shown that TA flux from the Wadden Sea to the North Sea has only a minor part caused by net alkalinity gain production.\n",
    "Thus, this scenario helps us to identify if additional alkalinity input without considering 'irreversible' biogeochemical processes can influence on the $\\text{CO}_2$ atmosphere-seawater exchange in the German Bight.\n",
    "\n",
    "[Yakubov (2019b)]: https://github.com/limash/Alkalinity_in_the_Wadden_Sea\n",
    "[Brasse et al. (1999)]: https://doi.org/10.1016/S1385-1101(99)00020-9"
   ]
  },
  {
   "cell_type": "markdown",
   "metadata": {},
   "source": [
    "The third scenario (**S-TA_DIC_zero**) is similar to the second one with the difference that the concentrations of TA and DIC in the Wadden Sea are normalized to the average North Sea values from the baseline scenario (**S-baseline**).\n",
    "From these averaged values TA adn DIC fluxes from Box B to Box A are calculated.\n",
    "With the same average values there is no additional alkalinity per year comes to Box A (so the resulting yearly flux is zero).\n",
    "This case helps to establish if pure TA and DIC seasonality can change the $\\text{CO}_2$ atmosphere-seawater exchange without any additional input of TA and DIC."
   ]
  },
  {
   "cell_type": "markdown",
   "metadata": {},
   "source": [
    "The fourth scenario (**S-DIC**) takes into account only DIC flux from Box B and DIC exchange with Box C without considering the flux and exchange of TA.\n",
    "It represents the case if for example all OM in the Wadden Sea degrades due to aerobic processes with no alkalinity generation and with no other alkalinity generating processes.\n",
    "Using this scenario we can evaluate the effect the Wadden Sea causes to the carbon dioxide atmosphere-seawater exchange due to its specific properties.\n",
    "\n",
    "[Yakubov (2019b)]: https://github.com/limash/Alkalinity_in_the_Wadden_Sea"
   ]
  },
  {
   "cell_type": "markdown",
   "metadata": {},
   "source": [
    "**Table 1.** The description of the scenarios.\n",
    "TA and DIC fluxes are yearly."
   ]
  },
  {
   "cell_type": "markdown",
   "metadata": {},
   "source": [
    "| Scenario | TA flux | DIC flux | TA exchange | DIC exchange |\n",
    "|----------|---------|----------|-------------|--------------|\n",
    "| **S-baseline** | 0 | 0 | no | no |\n",
    "| **S-TA_DIC_influx** | 17 GM | 37 GM | yes | yes |\n",
    "| **S-TA_DIC_zero** | 0 | 0 | yes | yes |\n",
    "| **S-DIC** | 0 | 37 GM | no | yes |"
   ]
  },
  {
   "cell_type": "code",
   "execution_count": null,
   "metadata": {},
   "outputs": [],
   "source": []
  }
 ],
 "metadata": {
  "kernelspec": {
   "display_name": "Python 3",
   "language": "python",
   "name": "python3"
  },
  "language_info": {
   "codemirror_mode": {
    "name": "ipython",
    "version": 3
   },
   "file_extension": ".py",
   "mimetype": "text/x-python",
   "name": "python",
   "nbconvert_exporter": "python",
   "pygments_lexer": "ipython3",
   "version": "3.8.2"
  }
 },
 "nbformat": 4,
 "nbformat_minor": 2
}
