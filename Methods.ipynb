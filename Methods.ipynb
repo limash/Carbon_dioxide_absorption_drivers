{
 "cells": [
  {
   "cell_type": "markdown",
   "metadata": {},
   "source": [
    "The Southern North Sea. Area of calculations = 1000x1000 m. Depth = 40 m.\n",
    "1. The baseline scenario (with parameter values found previously for the Wadden Sea) with nutrients horizontal diffusive exchange (currently - horizontal scale = 1000m.; kz = 3.82 from Okubo(1971)).\n",
    "2. The scenario with TA and DIC fluxes from the Wadden Sea and TA, DIC, and nutrients horizontal diffusive exchange. TA and DIC fluxes are calculated due to TA and DIC concentrations in the Wadden Sea and normilized to the average values in the North Sea (baseline scenario).\n",
    "3. Similar to the second one, but with assuming the average values of TA in the Wadden Sea are bigger than in the North Sea (from picture in Thomas 2009 for example); it can be due to riverrine input, irreversible alkalinity generation due to denitrification and sulfate reduction, etc.\n",
    "4. Similar to the second one, but with only TA advective transport (without DIC).\n",
    "5. Add TA fluxes from the Southern North Sea sediments from Brenner (2016); and DIC probably."
   ]
  },
  {
   "cell_type": "code",
   "execution_count": null,
   "metadata": {},
   "outputs": [],
   "source": []
  }
 ],
 "metadata": {
  "jupytext": {
   "main_language": "python",
   "text_representation": {
    "extension": ".Rmd",
    "format_name": "rmarkdown",
    "format_version": "1.0",
    "jupytext_version": "0.8.6"
   }
  },
  "kernelspec": {
   "display_name": "Python 3",
   "language": "python",
   "name": "python3"
  },
  "language_info": {
   "codemirror_mode": {
    "name": "ipython",
    "version": 3
   },
   "file_extension": ".py",
   "mimetype": "text/x-python",
   "name": "python",
   "nbconvert_exporter": "python",
   "pygments_lexer": "ipython3",
   "version": "3.7.2"
  }
 },
 "nbformat": 4,
 "nbformat_minor": 2
}
